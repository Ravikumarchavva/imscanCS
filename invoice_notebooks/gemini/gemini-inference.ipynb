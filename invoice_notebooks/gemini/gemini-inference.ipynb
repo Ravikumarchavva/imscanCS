{
 "cells": [
  {
   "cell_type": "code",
   "execution_count": 1,
   "metadata": {},
   "outputs": [
    {
     "data": {
      "text/plain": [
       "['invoice.pdf',\n",
       " 'ISS.pdf',\n",
       " 'NEWFO-INV-7478.pdf',\n",
       " 'PerfectMatch.pdf',\n",
       " 'PO139090 GP.pdf',\n",
       " 'SKonica Sit23112709230.pdf',\n",
       " 'skonica3-4.pdf']"
      ]
     },
     "execution_count": 1,
     "metadata": {},
     "output_type": "execute_result"
    }
   ],
   "source": [
    "from config.settings import SRC_DIR, DATA_DIR\n",
    "import os\n",
    "\n",
    "# Change working directory\n",
    "os.chdir(SRC_DIR)\n",
    "\n",
    "# Define file path\n",
    "file_dir = DATA_DIR / 'invoices' / 'valid_invoices'\n",
    "files = os.listdir(file_dir)\n",
    "files"
   ]
  },
  {
   "cell_type": "code",
   "execution_count": 2,
   "metadata": {},
   "outputs": [],
   "source": [
    "import base64\n",
    "\n",
    "class DataIngestion:\n",
    "    def __init__(self):\n",
    "        pass\n",
    "\n",
    "    @staticmethod\n",
    "    def transform(file_path):\n",
    "        '''Reads a PDF file and returns its base64 encoded content.'''\n",
    "        with open(file_path, \"rb\") as pdf_file:\n",
    "            pdf_data = pdf_file.read()\n",
    "        return base64.standard_b64encode(pdf_data).decode(\"utf-8\")"
   ]
  },
  {
   "cell_type": "code",
   "execution_count": 3,
   "metadata": {},
   "outputs": [],
   "source": [
    "import re\n",
    "import json\n",
    "\n",
    "class Invoice:\n",
    "    def __init__(self, data):\n",
    "        self.data = data\n",
    "    \n",
    "    def __getitem__(self, key):\n",
    "        '''Returns the value of the key from the data dictionary.'''\n",
    "        return self.data.get(key, None)\n",
    "    \n",
    "class InvoiceExtractor:\n",
    "    def __init__(self):\n",
    "        pass\n",
    "\n",
    "    def extract(self, response_text):\n",
    "        '''Extracts and merges JSON data from model response using balanced brace parsing.'''\n",
    "        def extract_json_objects(text):\n",
    "            objs = []\n",
    "            brace_count = 0\n",
    "            start = None\n",
    "            for i, ch in enumerate(text):\n",
    "                if ch == '{':\n",
    "                    if brace_count == 0:\n",
    "                        start = i\n",
    "                    brace_count += 1\n",
    "                elif ch == '}':\n",
    "                    brace_count -= 1\n",
    "                    if brace_count == 0 and start is not None:\n",
    "                        objs.append(text[start:i+1])\n",
    "            return objs\n",
    "\n",
    "        json_blocks = extract_json_objects(response_text)\n",
    "        if not json_blocks:\n",
    "            raise ValueError(\"No valid JSON found in response\")\n",
    "        combined_data = {}\n",
    "        for block in json_blocks:\n",
    "            data = json.loads(block)\n",
    "            combined_data.update(data)\n",
    "        return Invoice(combined_data)"
   ]
  },
  {
   "cell_type": "code",
   "execution_count": 4,
   "metadata": {},
   "outputs": [],
   "source": [
    "import google.generativeai as genai\n",
    "import os\n",
    "from IPython.display import display, HTML\n",
    "from json2html import json2html\n",
    "from config.invoice_config import get_prompt\n",
    "from dotenv import load_dotenv\n",
    "load_dotenv()\n",
    "GCP_KEY = os.getenv(\"GCP_KEY\")\n",
    "\n",
    "class OCR_Model:\n",
    "    def __init__(self, model=\"gemini-2.0-flash-exp\"):\n",
    "        genai.configure(api_key=GCP_KEY)\n",
    "        self.model = genai.GenerativeModel(model)\n",
    "\n",
    "    def _predict(self, data):\n",
    "        '''Generates response using the model.'''\n",
    "        response = self.model.generate_content(\n",
    "            [{\"mime_type\": \"application/pdf\", \"data\": data}, get_prompt()]\n",
    "        )\n",
    "        return response.text\n",
    "\n",
    "    def extract(self, data):\n",
    "        '''Extracts invoice data from the response.'''\n",
    "        response_text = self._predict(data)\n",
    "        extractor = InvoiceExtractor()\n",
    "        return extractor.extract(response_text)\n",
    "\n",
    "    def display(self, invoice, html=False):\n",
    "        '''Displays the extracted invoice data.'''\n",
    "        if html:\n",
    "            html_table = json2html.convert(json=invoice.data)\n",
    "            display(HTML(html_table))\n",
    "        else:\n",
    "            display(invoice.data)"
   ]
  },
  {
   "cell_type": "code",
   "execution_count": 5,
   "metadata": {},
   "outputs": [],
   "source": [
    "from config.settings import ROOT_DIR\n",
    "import os\n",
    "output_folder = ROOT_DIR / 'invoice_outputs'/ 'gemini-2.0-flash-exp'\n",
    "output_folder.mkdir(exist_ok=True)\n",
    "import json\n",
    "\n",
    "def save_file(invoice, file_name):\n",
    "    json_file_path = output_folder / f\"{file_name}.json\"\n",
    "\n",
    "    # Ensure the full path exists\n",
    "    json_file_path.parent.mkdir(parents=True, exist_ok=True)\n",
    "\n",
    "    # Open file in write mode\n",
    "    with open(json_file_path, \"w\", encoding=\"utf-8\") as json_file:\n",
    "        json.dump(invoice, json_file, indent=4)\n",
    "\n",
    "    print(f\"JSON saved at: {json_file_path}\")"
   ]
  },
  {
   "cell_type": "code",
   "execution_count": 6,
   "metadata": {},
   "outputs": [
    {
     "data": {
      "application/vnd.jupyter.widget-view+json": {
       "model_id": "e46bedf2222245bba8941174a4043fbd",
       "version_major": 2,
       "version_minor": 0
      },
      "text/plain": [
       "  0%|          | 0/7 [00:00<?, ?it/s]"
      ]
     },
     "metadata": {},
     "output_type": "display_data"
    },
    {
     "ename": "PermissionError",
     "evalue": "[Errno 13] Permission denied: 'C:\\\\Users\\\\ai.users\\\\imscanCS\\\\invoice_outputs\\\\gemini-2.0-flash-exp\\\\invoice.json'",
     "output_type": "error",
     "traceback": [
      "\u001b[1;31m---------------------------------------------------------------------------\u001b[0m",
      "\u001b[1;31mPermissionError\u001b[0m                           Traceback (most recent call last)",
      "Cell \u001b[1;32mIn[6], line 13\u001b[0m\n\u001b[0;32m      9\u001b[0m invoice \u001b[38;5;241m=\u001b[39m ocr_model\u001b[38;5;241m.\u001b[39mextract(data)\n\u001b[0;32m     11\u001b[0m file_name \u001b[38;5;241m=\u001b[39m \u001b[38;5;28mstr\u001b[39m(file_path)\u001b[38;5;241m.\u001b[39msplit(\u001b[38;5;124m'\u001b[39m\u001b[38;5;130;01m\\\\\u001b[39;00m\u001b[38;5;124m'\u001b[39m)[\u001b[38;5;241m-\u001b[39m\u001b[38;5;241m1\u001b[39m][:\u001b[38;5;241m-\u001b[39m\u001b[38;5;241m4\u001b[39m]\n\u001b[1;32m---> 13\u001b[0m \u001b[43msave_file\u001b[49m\u001b[43m(\u001b[49m\u001b[43minvoice\u001b[49m\u001b[38;5;241;43m.\u001b[39;49m\u001b[43mdata\u001b[49m\u001b[43m,\u001b[49m\u001b[43mfile_name\u001b[49m\u001b[43m)\u001b[49m\n",
      "Cell \u001b[1;32mIn[5], line 14\u001b[0m, in \u001b[0;36msave_file\u001b[1;34m(invoice, file_name)\u001b[0m\n\u001b[0;32m     11\u001b[0m json_file_path\u001b[38;5;241m.\u001b[39mparent\u001b[38;5;241m.\u001b[39mmkdir(parents\u001b[38;5;241m=\u001b[39m\u001b[38;5;28;01mTrue\u001b[39;00m, exist_ok\u001b[38;5;241m=\u001b[39m\u001b[38;5;28;01mTrue\u001b[39;00m)\n\u001b[0;32m     13\u001b[0m \u001b[38;5;66;03m# Open file in write mode\u001b[39;00m\n\u001b[1;32m---> 14\u001b[0m \u001b[38;5;28;01mwith\u001b[39;00m \u001b[38;5;28;43mopen\u001b[39;49m\u001b[43m(\u001b[49m\u001b[43mjson_file_path\u001b[49m\u001b[43m,\u001b[49m\u001b[43m \u001b[49m\u001b[38;5;124;43m\"\u001b[39;49m\u001b[38;5;124;43mw\u001b[39;49m\u001b[38;5;124;43m\"\u001b[39;49m\u001b[43m,\u001b[49m\u001b[43m \u001b[49m\u001b[43mencoding\u001b[49m\u001b[38;5;241;43m=\u001b[39;49m\u001b[38;5;124;43m\"\u001b[39;49m\u001b[38;5;124;43mutf-8\u001b[39;49m\u001b[38;5;124;43m\"\u001b[39;49m\u001b[43m)\u001b[49m \u001b[38;5;28;01mas\u001b[39;00m json_file:\n\u001b[0;32m     15\u001b[0m     json\u001b[38;5;241m.\u001b[39mdump(invoice, json_file, indent\u001b[38;5;241m=\u001b[39m\u001b[38;5;241m4\u001b[39m)\n\u001b[0;32m     17\u001b[0m \u001b[38;5;28mprint\u001b[39m(\u001b[38;5;124mf\u001b[39m\u001b[38;5;124m\"\u001b[39m\u001b[38;5;124mJSON saved at: \u001b[39m\u001b[38;5;132;01m{\u001b[39;00mjson_file_path\u001b[38;5;132;01m}\u001b[39;00m\u001b[38;5;124m\"\u001b[39m)\n",
      "File \u001b[1;32mc:\\Users\\ai.users\\imscanCS\\imscanCS\\Lib\\site-packages\\IPython\\core\\interactiveshell.py:324\u001b[0m, in \u001b[0;36m_modified_open\u001b[1;34m(file, *args, **kwargs)\u001b[0m\n\u001b[0;32m    317\u001b[0m \u001b[38;5;28;01mif\u001b[39;00m file \u001b[38;5;129;01min\u001b[39;00m {\u001b[38;5;241m0\u001b[39m, \u001b[38;5;241m1\u001b[39m, \u001b[38;5;241m2\u001b[39m}:\n\u001b[0;32m    318\u001b[0m     \u001b[38;5;28;01mraise\u001b[39;00m \u001b[38;5;167;01mValueError\u001b[39;00m(\n\u001b[0;32m    319\u001b[0m         \u001b[38;5;124mf\u001b[39m\u001b[38;5;124m\"\u001b[39m\u001b[38;5;124mIPython won\u001b[39m\u001b[38;5;124m'\u001b[39m\u001b[38;5;124mt let you open fd=\u001b[39m\u001b[38;5;132;01m{\u001b[39;00mfile\u001b[38;5;132;01m}\u001b[39;00m\u001b[38;5;124m by default \u001b[39m\u001b[38;5;124m\"\u001b[39m\n\u001b[0;32m    320\u001b[0m         \u001b[38;5;124m\"\u001b[39m\u001b[38;5;124mas it is likely to crash IPython. If you know what you are doing, \u001b[39m\u001b[38;5;124m\"\u001b[39m\n\u001b[0;32m    321\u001b[0m         \u001b[38;5;124m\"\u001b[39m\u001b[38;5;124myou can use builtins\u001b[39m\u001b[38;5;124m'\u001b[39m\u001b[38;5;124m open.\u001b[39m\u001b[38;5;124m\"\u001b[39m\n\u001b[0;32m    322\u001b[0m     )\n\u001b[1;32m--> 324\u001b[0m \u001b[38;5;28;01mreturn\u001b[39;00m \u001b[43mio_open\u001b[49m\u001b[43m(\u001b[49m\u001b[43mfile\u001b[49m\u001b[43m,\u001b[49m\u001b[43m \u001b[49m\u001b[38;5;241;43m*\u001b[39;49m\u001b[43margs\u001b[49m\u001b[43m,\u001b[49m\u001b[43m \u001b[49m\u001b[38;5;241;43m*\u001b[39;49m\u001b[38;5;241;43m*\u001b[39;49m\u001b[43mkwargs\u001b[49m\u001b[43m)\u001b[49m\n",
      "\u001b[1;31mPermissionError\u001b[0m: [Errno 13] Permission denied: 'C:\\\\Users\\\\ai.users\\\\imscanCS\\\\invoice_outputs\\\\gemini-2.0-flash-exp\\\\invoice.json'"
     ]
    }
   ],
   "source": [
    "from tqdm.auto import tqdm\n",
    "for file in tqdm(files):\n",
    "    file_path = file_dir / file\n",
    "\n",
    "    data_ingestion = DataIngestion()\n",
    "    data = data_ingestion.transform(file_path)\n",
    "\n",
    "    ocr_model = OCR_Model()\n",
    "    invoice = ocr_model.extract(data)\n",
    "\n",
    "    file_name = str(file_path).split('\\\\')[-1][:-4]\n",
    "\n",
    "    save_file(invoice.data,file_name)"
   ]
  },
  {
   "cell_type": "code",
   "execution_count": null,
   "metadata": {},
   "outputs": [],
   "source": []
  }
 ],
 "metadata": {
  "kernelspec": {
   "display_name": "imscanCS",
   "language": "python",
   "name": "python3"
  },
  "language_info": {
   "codemirror_mode": {
    "name": "ipython",
    "version": 3
   },
   "file_extension": ".py",
   "mimetype": "text/x-python",
   "name": "python",
   "nbconvert_exporter": "python",
   "pygments_lexer": "ipython3",
   "version": "3.13.2"
  }
 },
 "nbformat": 4,
 "nbformat_minor": 2
}
