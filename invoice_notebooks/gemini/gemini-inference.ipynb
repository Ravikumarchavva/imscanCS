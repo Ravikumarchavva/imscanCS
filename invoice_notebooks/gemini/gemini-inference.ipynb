{
 "cells": [
  {
   "cell_type": "code",
   "execution_count": 2,
   "metadata": {},
   "outputs": [
    {
     "data": {
      "text/plain": [
       "['invoice.pdf',\n",
       " 'ISS.pdf',\n",
       " 'NEWFO-INV-7478.pdf',\n",
       " 'PerfectMatch.pdf',\n",
       " 'PO139090 GP.pdf',\n",
       " 'SKonica Sit23112709230.pdf',\n",
       " 'skonica3-4.pdf']"
      ]
     },
     "execution_count": 2,
     "metadata": {},
     "output_type": "execute_result"
    }
   ],
   "source": [
    "from config.settings import SRC_DIR, DATA_DIR\n",
    "import os\n",
    "\n",
    "# Change working directory\n",
    "os.chdir(SRC_DIR)\n",
    "\n",
    "# Define file path\n",
    "file_dir = DATA_DIR / 'invoices' / 'valid_invoices'\n",
    "files = os.listdir(file_dir)\n",
    "files"
   ]
  },
  {
   "cell_type": "code",
   "execution_count": 3,
   "metadata": {},
   "outputs": [],
   "source": [
    "import base64\n",
    "\n",
    "class DataIngestion:\n",
    "    def __init__(self):\n",
    "        pass\n",
    "\n",
    "    @staticmethod\n",
    "    def transform(file_path):\n",
    "        '''Reads a PDF file and returns its base64 encoded content.'''\n",
    "        with open(file_path, \"rb\") as pdf_file:\n",
    "            pdf_data = pdf_file.read()\n",
    "        return base64.standard_b64encode(pdf_data).decode(\"utf-8\")"
   ]
  },
  {
   "cell_type": "code",
   "execution_count": 4,
   "metadata": {},
   "outputs": [],
   "source": [
    "import re\n",
    "import json\n",
    "\n",
    "class Invoice:\n",
    "    def __init__(self, data):\n",
    "        self.data = data\n",
    "    \n",
    "    def __getitem__(self, key):\n",
    "        '''Returns the value of the key from the data dictionary.'''\n",
    "        return self.data.get(key, None)\n",
    "    \n",
    "class InvoiceExtractor:\n",
    "    def __init__(self):\n",
    "        pass\n",
    "\n",
    "    def extract(self, response_text):\n",
    "        '''Extracts and merges JSON data from model response using balanced brace parsing.'''\n",
    "        def extract_json_objects(text):\n",
    "            objs = []\n",
    "            brace_count = 0\n",
    "            start = None\n",
    "            for i, ch in enumerate(text):\n",
    "                if ch == '{':\n",
    "                    if brace_count == 0:\n",
    "                        start = i\n",
    "                    brace_count += 1\n",
    "                elif ch == '}':\n",
    "                    brace_count -= 1\n",
    "                    if brace_count == 0 and start is not None:\n",
    "                        objs.append(text[start:i+1])\n",
    "            return objs\n",
    "\n",
    "        json_blocks = extract_json_objects(response_text)\n",
    "        if not json_blocks:\n",
    "            raise ValueError(\"No valid JSON found in response\")\n",
    "        combined_data = {}\n",
    "        for block in json_blocks:\n",
    "            data = json.loads(block)\n",
    "            combined_data.update(data)\n",
    "        return Invoice(combined_data)"
   ]
  },
  {
   "cell_type": "code",
   "execution_count": 5,
   "metadata": {},
   "outputs": [],
   "source": [
    "import google.generativeai as genai\n",
    "import os\n",
    "from IPython.display import display, HTML\n",
    "from json2html import json2html\n",
    "from config.invoice_config import get_prompt\n",
    "from dotenv import load_dotenv\n",
    "load_dotenv()\n",
    "GCP_KEY = os.getenv(\"GCP_KEY\")\n",
    "\n",
    "class OCR_Model:\n",
    "    def __init__(self, model=\"gemini-2.0-flash-exp\"):\n",
    "        genai.configure(api_key=GCP_KEY)\n",
    "        self.model = genai.GenerativeModel(model)\n",
    "\n",
    "    def _predict(self, data):\n",
    "        '''Generates response using the model.'''\n",
    "        response = self.model.generate_content(\n",
    "            [{\"mime_type\": \"application/pdf\", \"data\": data}, get_prompt()]\n",
    "        )\n",
    "        return response.text\n",
    "\n",
    "    def extract(self, data):\n",
    "        '''Extracts invoice data from the response.'''\n",
    "        response_text = self._predict(data)\n",
    "        extractor = InvoiceExtractor()\n",
    "        return extractor.extract(response_text)\n",
    "\n",
    "    def display(self, invoice, html=False):\n",
    "        '''Displays the extracted invoice data.'''\n",
    "        if html:\n",
    "            html_table = json2html.convert(json=invoice.data)\n",
    "            display(HTML(html_table))\n",
    "        else:\n",
    "            display(invoice.data)"
   ]
  },
  {
   "cell_type": "code",
   "execution_count": 6,
   "metadata": {},
   "outputs": [],
   "source": [
    "from config.settings import ROOT_DIR\n",
    "import os\n",
    "import json\n",
    "from tqdm.auto import tqdm\n",
    "\n",
    "# Define output folder path\n",
    "output_folder = ROOT_DIR / 'invoice_outputs' / 'gemini-2.0-flash-exp'\n",
    "output_folder.mkdir(parents=True, exist_ok=True) \n",
    "\n",
    "def save_file(invoice, file_name):\n",
    "    json_file_path = output_folder / f\"{file_name}.json\"\n",
    "\n",
    "    # Ensure the full path exists\n",
    "    json_file_path.parent.mkdir(parents=True, exist_ok=True)\n",
    "\n",
    "    try:\n",
    "        with open(str(json_file_path), \"w\", encoding=\"utf-8\") as json_file:\n",
    "            json.dump(invoice, json_file, indent=4)\n",
    "        print(f\"JSON saved at: {json_file_path}\")\n",
    "    except PermissionError as e:\n",
    "        print(f\"Permission error: {e}\")\n",
    "    except Exception as e:\n",
    "        print(f\"Unexpected error: {e}\")"
   ]
  },
  {
   "cell_type": "code",
   "execution_count": 6,
   "metadata": {},
   "outputs": [
    {
     "data": {
      "application/vnd.jupyter.widget-view+json": {
       "model_id": "0e920749f7f64b848e2651d24598f427",
       "version_major": 2,
       "version_minor": 0
      },
      "text/plain": [
       "  0%|          | 0/7 [00:00<?, ?it/s]"
      ]
     },
     "metadata": {},
     "output_type": "display_data"
    },
    {
     "name": "stdout",
     "output_type": "stream",
     "text": [
      "Permission error: [Errno 13] Permission denied: 'C:\\\\Users\\\\ai.users\\\\imscanCS\\\\invoice_outputs\\\\gemini-2.0-flash-exp\\\\invoice.json'\n",
      "JSON saved at: C:\\Users\\ai.users\\imscanCS\\invoice_outputs\\gemini-2.0-flash-exp\\ISS.json\n",
      "JSON saved at: C:\\Users\\ai.users\\imscanCS\\invoice_outputs\\gemini-2.0-flash-exp\\NEWFO-INV-7478.json\n",
      "JSON saved at: C:\\Users\\ai.users\\imscanCS\\invoice_outputs\\gemini-2.0-flash-exp\\PerfectMatch.json\n",
      "JSON saved at: C:\\Users\\ai.users\\imscanCS\\invoice_outputs\\gemini-2.0-flash-exp\\PO139090 GP.json\n",
      "JSON saved at: C:\\Users\\ai.users\\imscanCS\\invoice_outputs\\gemini-2.0-flash-exp\\SKonica Sit23112709230.json\n",
      "Error processing skonica3-4.pdf: Invalid control character at: line 173 column 6 (char 5888)\n"
     ]
    }
   ],
   "source": [
    "# Loop through files and process them\n",
    "for file in tqdm(files):\n",
    "    file_path = file_dir / file\n",
    "\n",
    "    try:\n",
    "        data_ingestion = DataIngestion()\n",
    "        data = data_ingestion.transform(file_path)\n",
    "\n",
    "        ocr_model = OCR_Model()\n",
    "        invoice = ocr_model.extract(data)\n",
    "\n",
    "        file_name = file_path.stem\n",
    "        save_file(invoice.data, file_name)\n",
    "    except Exception as e:\n",
    "        print(f\"Error processing {file}: {e}\")"
   ]
  },
  {
   "cell_type": "code",
   "execution_count": 7,
   "metadata": {},
   "outputs": [
    {
     "name": "stdout",
     "output_type": "stream",
     "text": [
      "Excel file saved at: C:\\Users\\ai.users\\imscanCS\\invoice_outputs\\gemini-2.0-flash-exp\\structured_invoices.xlsx\n"
     ]
    }
   ],
   "source": [
    "import json\n",
    "import pandas as pd\n",
    "from pathlib import Path\n",
    "\n",
    "json_folder = Path(ROOT_DIR) / \"invoice_outputs\" / \"gemini-2.0-flash-exp\"\n",
    "excel_output_path = json_folder / \"structured_invoices.xlsx\"\n",
    "\n",
    "# Initialize an Excel writer\n",
    "with pd.ExcelWriter(excel_output_path, engine=\"openpyxl\") as writer:\n",
    "    for json_file in json_folder.glob(\"*.json\"):\n",
    "        with open(json_file, \"r\", encoding=\"utf-8\") as f:\n",
    "            data = json.load(f)\n",
    "        \n",
    "        # Convert JSON to a readable format (list of dictionaries)\n",
    "        df = pd.DataFrame([{\"JSON Data\": json.dumps(data, indent=2)}])\n",
    "        \n",
    "        # Use the file name as the sheet name\n",
    "        sheet_name = json_file.stem[:30]  # Excel sheet name max length = 31\n",
    "        df.to_excel(writer, sheet_name=sheet_name, index=False)\n",
    "\n",
    "print(f\"Excel file saved at: {excel_output_path}\")"
   ]
  }
 ],
 "metadata": {
  "kernelspec": {
   "display_name": "imscanCS",
   "language": "python",
   "name": "python3"
  },
  "language_info": {
   "codemirror_mode": {
    "name": "ipython",
    "version": 3
   },
   "file_extension": ".py",
   "mimetype": "text/x-python",
   "name": "python",
   "nbconvert_exporter": "python",
   "pygments_lexer": "ipython3",
   "version": "3.13.2"
  }
 },
 "nbformat": 4,
 "nbformat_minor": 2
}
