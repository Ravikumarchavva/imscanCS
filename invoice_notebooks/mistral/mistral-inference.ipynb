{
 "cells": [
  {
   "cell_type": "code",
   "execution_count": 1,
   "metadata": {},
   "outputs": [
    {
     "data": {
      "text/plain": [
       "['invoice.pdf',\n",
       " 'ISS.pdf',\n",
       " 'NEWFO-INV-7478.pdf',\n",
       " 'output',\n",
       " 'PerfectMatch.pdf',\n",
       " 'PO139090 GP.pdf',\n",
       " 'SKonica Sit23112709230.pdf',\n",
       " 'skonica3-4.pdf']"
      ]
     },
     "execution_count": 1,
     "metadata": {},
     "output_type": "execute_result"
    }
   ],
   "source": [
    "from config.settings import SRC_DIR, DATA_DIR\n",
    "import os\n",
    "# Define file path for the directory containing PDFs\n",
    "file_dir = DATA_DIR / 'invoices' / 'valid_invoices'\n",
    "files = os.listdir(file_dir)\n",
    "\n",
    "files"
   ]
  },
  {
   "cell_type": "code",
   "execution_count": 2,
   "metadata": {},
   "outputs": [],
   "source": [
    "file_path = file_dir/files[-1]\n",
    "output_path = \"C:/Users/ai.users/imscanCS/data/invoices/valid_invoices/output\"\n",
    "import fitz  # pymupdf\n",
    "\n",
    "doc = fitz.open(str(file_path))\n",
    "for i, page in enumerate(doc):\n",
    "    pix = page.get_pixmap()\n",
    "    pix.save(f\"{output_path}/page_{i}.png\") "
   ]
  },
  {
   "cell_type": "code",
   "execution_count": 3,
   "metadata": {},
   "outputs": [
    {
     "name": "stderr",
     "output_type": "stream",
     "text": [
      "c:\\Users\\ai.users\\AppData\\Local\\anaconda3\\envs\\imscanCS\\lib\\site-packages\\tqdm\\auto.py:21: TqdmWarning: IProgress not found. Please update jupyter and ipywidgets. See https://ipywidgets.readthedocs.io/en/stable/user_install.html\n",
      "  from .autonotebook import tqdm as notebook_tqdm\n"
     ]
    },
    {
     "name": "stdout",
     "output_type": "stream",
     "text": [
      "INFO 02-23 16:17:52 __init__.py:207] Automatically detected platform cuda.\n"
     ]
    },
    {
     "ename": "ModuleNotFoundError",
     "evalue": "No module named 'vllm._C'",
     "output_type": "error",
     "traceback": [
      "\u001b[1;31m---------------------------------------------------------------------------\u001b[0m",
      "\u001b[1;31mModuleNotFoundError\u001b[0m                       Traceback (most recent call last)",
      "Cell \u001b[1;32mIn[3], line 8\u001b[0m\n\u001b[0;32m      4\u001b[0m model_name \u001b[38;5;241m=\u001b[39m \u001b[38;5;124m\"\u001b[39m\u001b[38;5;124mmistralai/Pixtral-12B-2409\u001b[39m\u001b[38;5;124m\"\u001b[39m\n\u001b[0;32m      6\u001b[0m sampling_params \u001b[38;5;241m=\u001b[39m SamplingParams(max_tokens\u001b[38;5;241m=\u001b[39m\u001b[38;5;241m8192\u001b[39m)\n\u001b[1;32m----> 8\u001b[0m llm \u001b[38;5;241m=\u001b[39m \u001b[43mLLM\u001b[49m\u001b[43m(\u001b[49m\u001b[43mmodel\u001b[49m\u001b[38;5;241;43m=\u001b[39;49m\u001b[43mmodel_name\u001b[49m\u001b[43m,\u001b[49m\u001b[43m \u001b[49m\u001b[43mtokenizer_mode\u001b[49m\u001b[38;5;241;43m=\u001b[39;49m\u001b[38;5;124;43m\"\u001b[39;49m\u001b[38;5;124;43mmistral\u001b[39;49m\u001b[38;5;124;43m\"\u001b[39;49m\u001b[43m)\u001b[49m\n\u001b[0;32m     10\u001b[0m prompt \u001b[38;5;241m=\u001b[39m \u001b[38;5;124m\"\u001b[39m\u001b[38;5;124mDescribe this image in one sentence.\u001b[39m\u001b[38;5;124m\"\u001b[39m\n\u001b[0;32m     11\u001b[0m image_url \u001b[38;5;241m=\u001b[39m \u001b[38;5;124m\"\u001b[39m\u001b[38;5;124mhttps://picsum.photos/id/237/200/300\u001b[39m\u001b[38;5;124m\"\u001b[39m\n",
      "File \u001b[1;32mc:\\Users\\ai.users\\AppData\\Local\\anaconda3\\envs\\imscanCS\\lib\\site-packages\\vllm\\utils.py:1045\u001b[0m, in \u001b[0;36mdeprecate_args.<locals>.wrapper.<locals>.inner\u001b[1;34m(*args, **kwargs)\u001b[0m\n\u001b[0;32m   1038\u001b[0m             msg \u001b[38;5;241m+\u001b[39m\u001b[38;5;241m=\u001b[39m \u001b[38;5;124mf\u001b[39m\u001b[38;5;124m\"\u001b[39m\u001b[38;5;124m \u001b[39m\u001b[38;5;132;01m{\u001b[39;00madditional_message\u001b[38;5;132;01m}\u001b[39;00m\u001b[38;5;124m\"\u001b[39m\n\u001b[0;32m   1040\u001b[0m         warnings\u001b[38;5;241m.\u001b[39mwarn(\n\u001b[0;32m   1041\u001b[0m             \u001b[38;5;167;01mDeprecationWarning\u001b[39;00m(msg),\n\u001b[0;32m   1042\u001b[0m             stacklevel\u001b[38;5;241m=\u001b[39m\u001b[38;5;241m3\u001b[39m,  \u001b[38;5;66;03m# The inner function takes up one level\u001b[39;00m\n\u001b[0;32m   1043\u001b[0m         )\n\u001b[1;32m-> 1045\u001b[0m \u001b[38;5;28;01mreturn\u001b[39;00m fn(\u001b[38;5;241m*\u001b[39margs, \u001b[38;5;241m*\u001b[39m\u001b[38;5;241m*\u001b[39mkwargs)\n",
      "File \u001b[1;32mc:\\Users\\ai.users\\AppData\\Local\\anaconda3\\envs\\imscanCS\\lib\\site-packages\\vllm\\entrypoints\\llm.py:213\u001b[0m, in \u001b[0;36mLLM.__init__\u001b[1;34m(self, model, tokenizer, tokenizer_mode, skip_tokenizer_init, trust_remote_code, allowed_local_media_path, tensor_parallel_size, dtype, quantization, revision, tokenizer_revision, seed, gpu_memory_utilization, swap_space, cpu_offload_gb, enforce_eager, max_seq_len_to_capture, disable_custom_all_reduce, disable_async_output_proc, hf_overrides, mm_processor_kwargs, task, override_pooler_config, compilation_config, **kwargs)\u001b[0m\n\u001b[0;32m    210\u001b[0m \u001b[38;5;28;01melse\u001b[39;00m:\n\u001b[0;32m    211\u001b[0m     compilation_config_instance \u001b[38;5;241m=\u001b[39m \u001b[38;5;28;01mNone\u001b[39;00m\n\u001b[1;32m--> 213\u001b[0m engine_args \u001b[38;5;241m=\u001b[39m EngineArgs(\n\u001b[0;32m    214\u001b[0m     model\u001b[38;5;241m=\u001b[39mmodel,\n\u001b[0;32m    215\u001b[0m     task\u001b[38;5;241m=\u001b[39mtask,\n\u001b[0;32m    216\u001b[0m     tokenizer\u001b[38;5;241m=\u001b[39mtokenizer,\n\u001b[0;32m    217\u001b[0m     tokenizer_mode\u001b[38;5;241m=\u001b[39mtokenizer_mode,\n\u001b[0;32m    218\u001b[0m     skip_tokenizer_init\u001b[38;5;241m=\u001b[39mskip_tokenizer_init,\n\u001b[0;32m    219\u001b[0m     trust_remote_code\u001b[38;5;241m=\u001b[39mtrust_remote_code,\n\u001b[0;32m    220\u001b[0m     allowed_local_media_path\u001b[38;5;241m=\u001b[39mallowed_local_media_path,\n\u001b[0;32m    221\u001b[0m     tensor_parallel_size\u001b[38;5;241m=\u001b[39mtensor_parallel_size,\n\u001b[0;32m    222\u001b[0m     dtype\u001b[38;5;241m=\u001b[39mdtype,\n\u001b[0;32m    223\u001b[0m     quantization\u001b[38;5;241m=\u001b[39mquantization,\n\u001b[0;32m    224\u001b[0m     revision\u001b[38;5;241m=\u001b[39mrevision,\n\u001b[0;32m    225\u001b[0m     tokenizer_revision\u001b[38;5;241m=\u001b[39mtokenizer_revision,\n\u001b[0;32m    226\u001b[0m     seed\u001b[38;5;241m=\u001b[39mseed,\n\u001b[0;32m    227\u001b[0m     gpu_memory_utilization\u001b[38;5;241m=\u001b[39mgpu_memory_utilization,\n\u001b[0;32m    228\u001b[0m     swap_space\u001b[38;5;241m=\u001b[39mswap_space,\n\u001b[0;32m    229\u001b[0m     cpu_offload_gb\u001b[38;5;241m=\u001b[39mcpu_offload_gb,\n\u001b[0;32m    230\u001b[0m     enforce_eager\u001b[38;5;241m=\u001b[39menforce_eager,\n\u001b[0;32m    231\u001b[0m     max_seq_len_to_capture\u001b[38;5;241m=\u001b[39mmax_seq_len_to_capture,\n\u001b[0;32m    232\u001b[0m     disable_custom_all_reduce\u001b[38;5;241m=\u001b[39mdisable_custom_all_reduce,\n\u001b[0;32m    233\u001b[0m     disable_async_output_proc\u001b[38;5;241m=\u001b[39mdisable_async_output_proc,\n\u001b[0;32m    234\u001b[0m     hf_overrides\u001b[38;5;241m=\u001b[39mhf_overrides,\n\u001b[0;32m    235\u001b[0m     mm_processor_kwargs\u001b[38;5;241m=\u001b[39mmm_processor_kwargs,\n\u001b[0;32m    236\u001b[0m     override_pooler_config\u001b[38;5;241m=\u001b[39moverride_pooler_config,\n\u001b[0;32m    237\u001b[0m     compilation_config\u001b[38;5;241m=\u001b[39mcompilation_config_instance,\n\u001b[0;32m    238\u001b[0m     \u001b[38;5;241m*\u001b[39m\u001b[38;5;241m*\u001b[39mkwargs,\n\u001b[0;32m    239\u001b[0m )\n\u001b[0;32m    240\u001b[0m \u001b[38;5;66;03m# Logic to switch between engines is done at runtime instead of import\u001b[39;00m\n\u001b[0;32m    241\u001b[0m \u001b[38;5;66;03m# to avoid import order issues\u001b[39;00m\n\u001b[0;32m    242\u001b[0m \u001b[38;5;28mself\u001b[39m\u001b[38;5;241m.\u001b[39mengine_class \u001b[38;5;241m=\u001b[39m \u001b[38;5;28mself\u001b[39m\u001b[38;5;241m.\u001b[39mget_engine_class()\n",
      "File \u001b[1;32m<string>:108\u001b[0m, in \u001b[0;36m__init__\u001b[1;34m(self, model, served_model_name, tokenizer, task, skip_tokenizer_init, tokenizer_mode, trust_remote_code, allowed_local_media_path, download_dir, load_format, config_format, dtype, kv_cache_dtype, seed, max_model_len, distributed_executor_backend, pipeline_parallel_size, tensor_parallel_size, max_parallel_loading_workers, block_size, enable_prefix_caching, disable_sliding_window, use_v2_block_manager, swap_space, cpu_offload_gb, gpu_memory_utilization, max_num_batched_tokens, max_num_partial_prefills, max_long_partial_prefills, long_prefill_token_threshold, max_num_seqs, max_logprobs, disable_log_stats, revision, code_revision, rope_scaling, rope_theta, hf_overrides, tokenizer_revision, quantization, enforce_eager, max_seq_len_to_capture, disable_custom_all_reduce, tokenizer_pool_size, tokenizer_pool_type, tokenizer_pool_extra_config, limit_mm_per_prompt, mm_processor_kwargs, disable_mm_preprocessor_cache, enable_lora, enable_lora_bias, max_loras, max_lora_rank, enable_prompt_adapter, max_prompt_adapters, max_prompt_adapter_token, fully_sharded_loras, lora_extra_vocab_size, long_lora_scaling_factors, lora_dtype, max_cpu_loras, device, num_scheduler_steps, multi_step_stream_outputs, ray_workers_use_nsight, num_gpu_blocks_override, num_lookahead_slots, model_loader_extra_config, ignore_patterns, preemption_mode, scheduler_delay_factor, enable_chunked_prefill, guided_decoding_backend, logits_processor_pattern, speculative_model, speculative_model_quantization, speculative_draft_tensor_parallel_size, num_speculative_tokens, speculative_disable_mqa_scorer, speculative_max_model_len, speculative_disable_by_batch_size, ngram_prompt_lookup_max, ngram_prompt_lookup_min, spec_decoding_acceptance_method, typical_acceptance_sampler_posterior_threshold, typical_acceptance_sampler_posterior_alpha, qlora_adapter_name_or_path, disable_logprobs_during_spec_decoding, show_hidden_metrics_for_version, otlp_traces_endpoint, collect_detailed_traces, disable_async_output_proc, scheduling_policy, scheduler_cls, override_neuron_config, override_pooler_config, compilation_config, worker_cls, kv_transfer_config, generation_config, override_generation_config, enable_sleep_mode, model_impl, calculate_kv_scales, additional_config)\u001b[0m\n",
      "File \u001b[1;32mc:\\Users\\ai.users\\AppData\\Local\\anaconda3\\envs\\imscanCS\\lib\\site-packages\\vllm\\engine\\arg_utils.py:238\u001b[0m, in \u001b[0;36mEngineArgs.__post_init__\u001b[1;34m(self)\u001b[0m\n\u001b[0;32m    236\u001b[0m \u001b[38;5;66;03m# Setup plugins\u001b[39;00m\n\u001b[0;32m    237\u001b[0m \u001b[38;5;28;01mfrom\u001b[39;00m\u001b[38;5;250m \u001b[39m\u001b[38;5;21;01mvllm\u001b[39;00m\u001b[38;5;21;01m.\u001b[39;00m\u001b[38;5;21;01mplugins\u001b[39;00m\u001b[38;5;250m \u001b[39m\u001b[38;5;28;01mimport\u001b[39;00m load_general_plugins\n\u001b[1;32m--> 238\u001b[0m \u001b[43mload_general_plugins\u001b[49m\u001b[43m(\u001b[49m\u001b[43m)\u001b[49m\n",
      "File \u001b[1;32mc:\\Users\\ai.users\\AppData\\Local\\anaconda3\\envs\\imscanCS\\lib\\site-packages\\vllm\\plugins\\__init__.py:61\u001b[0m, in \u001b[0;36mload_general_plugins\u001b[1;34m()\u001b[0m\n\u001b[0;32m     58\u001b[0m plugins_loaded \u001b[38;5;241m=\u001b[39m \u001b[38;5;28;01mTrue\u001b[39;00m\n\u001b[0;32m     60\u001b[0m \u001b[38;5;66;03m# some platform-specific configurations\u001b[39;00m\n\u001b[1;32m---> 61\u001b[0m \u001b[38;5;28;01mfrom\u001b[39;00m\u001b[38;5;250m \u001b[39m\u001b[38;5;21;01mvllm\u001b[39;00m\u001b[38;5;21;01m.\u001b[39;00m\u001b[38;5;21;01mplatforms\u001b[39;00m\u001b[38;5;250m \u001b[39m\u001b[38;5;28;01mimport\u001b[39;00m current_platform\n\u001b[0;32m     63\u001b[0m \u001b[38;5;28;01mif\u001b[39;00m current_platform\u001b[38;5;241m.\u001b[39mis_xpu():\n\u001b[0;32m     64\u001b[0m     \u001b[38;5;66;03m# see https://github.com/pytorch/pytorch/blob/43c5f59/torch/_dynamo/config.py#L158\u001b[39;00m\n\u001b[0;32m     65\u001b[0m     torch\u001b[38;5;241m.\u001b[39m_dynamo\u001b[38;5;241m.\u001b[39mconfig\u001b[38;5;241m.\u001b[39mdisable \u001b[38;5;241m=\u001b[39m \u001b[38;5;28;01mTrue\u001b[39;00m\n",
      "File \u001b[1;32mc:\\Users\\ai.users\\AppData\\Local\\anaconda3\\envs\\imscanCS\\lib\\site-packages\\vllm\\platforms\\__init__.py:239\u001b[0m, in \u001b[0;36m__getattr__\u001b[1;34m(name)\u001b[0m\n\u001b[0;32m    237\u001b[0m \u001b[38;5;28;01mif\u001b[39;00m _current_platform \u001b[38;5;129;01mis\u001b[39;00m \u001b[38;5;28;01mNone\u001b[39;00m:\n\u001b[0;32m    238\u001b[0m     platform_cls_qualname \u001b[38;5;241m=\u001b[39m resolve_current_platform_cls_qualname()\n\u001b[1;32m--> 239\u001b[0m     _current_platform \u001b[38;5;241m=\u001b[39m \u001b[43mresolve_obj_by_qualname\u001b[49m\u001b[43m(\u001b[49m\n\u001b[0;32m    240\u001b[0m \u001b[43m        \u001b[49m\u001b[43mplatform_cls_qualname\u001b[49m\u001b[43m)\u001b[49m()\n\u001b[0;32m    241\u001b[0m     \u001b[38;5;28;01mglobal\u001b[39;00m _init_trace\n\u001b[0;32m    242\u001b[0m     _init_trace \u001b[38;5;241m=\u001b[39m \u001b[38;5;124m\"\u001b[39m\u001b[38;5;124m\"\u001b[39m\u001b[38;5;241m.\u001b[39mjoin(traceback\u001b[38;5;241m.\u001b[39mformat_stack())\n",
      "File \u001b[1;32mc:\\Users\\ai.users\\AppData\\Local\\anaconda3\\envs\\imscanCS\\lib\\site-packages\\vllm\\utils.py:1913\u001b[0m, in \u001b[0;36mresolve_obj_by_qualname\u001b[1;34m(qualname)\u001b[0m\n\u001b[0;32m   1909\u001b[0m \u001b[38;5;250m\u001b[39m\u001b[38;5;124;03m\"\"\"\u001b[39;00m\n\u001b[0;32m   1910\u001b[0m \u001b[38;5;124;03mResolve an object by its fully qualified name.\u001b[39;00m\n\u001b[0;32m   1911\u001b[0m \u001b[38;5;124;03m\"\"\"\u001b[39;00m\n\u001b[0;32m   1912\u001b[0m module_name, obj_name \u001b[38;5;241m=\u001b[39m qualname\u001b[38;5;241m.\u001b[39mrsplit(\u001b[38;5;124m\"\u001b[39m\u001b[38;5;124m.\u001b[39m\u001b[38;5;124m\"\u001b[39m, \u001b[38;5;241m1\u001b[39m)\n\u001b[1;32m-> 1913\u001b[0m module \u001b[38;5;241m=\u001b[39m \u001b[43mimportlib\u001b[49m\u001b[38;5;241;43m.\u001b[39;49m\u001b[43mimport_module\u001b[49m\u001b[43m(\u001b[49m\u001b[43mmodule_name\u001b[49m\u001b[43m)\u001b[49m\n\u001b[0;32m   1914\u001b[0m \u001b[38;5;28;01mreturn\u001b[39;00m \u001b[38;5;28mgetattr\u001b[39m(module, obj_name)\n",
      "File \u001b[1;32mc:\\Users\\ai.users\\AppData\\Local\\anaconda3\\envs\\imscanCS\\lib\\importlib\\__init__.py:126\u001b[0m, in \u001b[0;36mimport_module\u001b[1;34m(name, package)\u001b[0m\n\u001b[0;32m    124\u001b[0m             \u001b[38;5;28;01mbreak\u001b[39;00m\n\u001b[0;32m    125\u001b[0m         level \u001b[38;5;241m+\u001b[39m\u001b[38;5;241m=\u001b[39m \u001b[38;5;241m1\u001b[39m\n\u001b[1;32m--> 126\u001b[0m \u001b[38;5;28;01mreturn\u001b[39;00m \u001b[43m_bootstrap\u001b[49m\u001b[38;5;241;43m.\u001b[39;49m\u001b[43m_gcd_import\u001b[49m\u001b[43m(\u001b[49m\u001b[43mname\u001b[49m\u001b[43m[\u001b[49m\u001b[43mlevel\u001b[49m\u001b[43m:\u001b[49m\u001b[43m]\u001b[49m\u001b[43m,\u001b[49m\u001b[43m \u001b[49m\u001b[43mpackage\u001b[49m\u001b[43m,\u001b[49m\u001b[43m \u001b[49m\u001b[43mlevel\u001b[49m\u001b[43m)\u001b[49m\n",
      "File \u001b[1;32mc:\\Users\\ai.users\\AppData\\Local\\anaconda3\\envs\\imscanCS\\lib\\site-packages\\vllm\\platforms\\cuda.py:15\u001b[0m\n\u001b[0;32m     12\u001b[0m \u001b[38;5;28;01mfrom\u001b[39;00m\u001b[38;5;250m \u001b[39m\u001b[38;5;21;01mtyping_extensions\u001b[39;00m\u001b[38;5;250m \u001b[39m\u001b[38;5;28;01mimport\u001b[39;00m ParamSpec\n\u001b[0;32m     14\u001b[0m \u001b[38;5;66;03m# import custom ops, trigger op registration\u001b[39;00m\n\u001b[1;32m---> 15\u001b[0m \u001b[38;5;28;01mimport\u001b[39;00m\u001b[38;5;250m \u001b[39m\u001b[38;5;21;01mvllm\u001b[39;00m\u001b[38;5;21;01m.\u001b[39;00m\u001b[38;5;21;01m_C\u001b[39;00m  \u001b[38;5;66;03m# noqa\u001b[39;00m\n\u001b[0;32m     16\u001b[0m \u001b[38;5;28;01mimport\u001b[39;00m\u001b[38;5;250m \u001b[39m\u001b[38;5;21;01mvllm\u001b[39;00m\u001b[38;5;21;01m.\u001b[39;00m\u001b[38;5;21;01menvs\u001b[39;00m\u001b[38;5;250m \u001b[39m\u001b[38;5;28;01mas\u001b[39;00m\u001b[38;5;250m \u001b[39m\u001b[38;5;21;01menvs\u001b[39;00m\n\u001b[0;32m     17\u001b[0m \u001b[38;5;28;01mfrom\u001b[39;00m\u001b[38;5;250m \u001b[39m\u001b[38;5;21;01mvllm\u001b[39;00m\u001b[38;5;21;01m.\u001b[39;00m\u001b[38;5;21;01mlogger\u001b[39;00m\u001b[38;5;250m \u001b[39m\u001b[38;5;28;01mimport\u001b[39;00m init_logger\n",
      "\u001b[1;31mModuleNotFoundError\u001b[0m: No module named 'vllm._C'"
     ]
    }
   ],
   "source": [
    "from vllm import LLM\n",
    "from vllm.sampling_params import SamplingParams\n",
    "\n",
    "model_name = \"mistralai/Pixtral-12B-2409\"\n",
    "\n",
    "sampling_params = SamplingParams(max_tokens=8192)\n",
    "\n",
    "llm = LLM(model=model_name, tokenizer_mode=\"mistral\")\n",
    "\n",
    "prompt = \"Describe this image in one sentence.\"\n",
    "image_url = \"https://picsum.photos/id/237/200/300\"\n",
    "\n",
    "messages = [\n",
    "    {\n",
    "        \"role\": \"user\",\n",
    "        \"content\": [{\"type\": \"text\", \"text\": prompt}, {\"type\": \"image_url\", \"image_url\": {\"url\": image_url}}]\n",
    "    },\n",
    "]\n",
    "\n",
    "outputs = llm.chat(messages, sampling_params=sampling_params)\n",
    "\n",
    "print(outputs[0].outputs[0].text)\n"
   ]
  },
  {
   "cell_type": "code",
   "execution_count": 4,
   "metadata": {},
   "outputs": [
    {
     "name": "stdout",
     "output_type": "stream",
     "text": [
      "['```json\\n{\\n    \"line_items\": [\\n        {\\n            \"product_code\": \"8501025580\",\\n            \"description\": \"FRA CAR 18X250 GEN VD DES K62H40 NG PAP\",\\n            \"quantity\": \"327,00\",\\n            \"price_per_unit\": \"5,886,00\",\\n            \"vat_percent\": \"0,00 %\",\\n            \"total_price\": \"1,471,50\"\\n        },\\n        {\\n            \"product_code\": \"8501025581\",\\n            \"description\": \"FRA CAR 18X250 GEN VD DES K62H40 NG PAP\",\\n            \"quantity\": \"130,00\",\\n            \"price_per_unit\": \"2,340,00\",\\n            \"vat_percent\": \"0,00 %\",\\n            \"total_price\": \"0,585,00\"\\n        },\\n        {\\n            \"product_code\": \"8501025585\",\\n            \"description\": \"FRA CAR 18X250 GEN VD DES K62H40 NG PAP\",\\n            \"quantity\": \"170,00\",\\n            \"price_per_unit\": \"3,095,00\",\\n            \"vat_percent\": \"0,00 %\",\\n            \"total_price\": \"0,765,00\"\\n        },\\n        {\\n            \"product_code\": \"8501025611\",\\n            \"description\": \"FRA CAR 18X250 GEN VD DES K62H40 NG PAP\",\\n            \"quantity\": \"198,00\",\\n            \"price_per_unit\": \"3,564,00\",\\n            \"vat_percent\": \"0,00 %\",\\n            \"total_price\": \"0,691,00\"\\n        },\\n        {\\n            \"product_code\": \"8501025625\",\\n            \"description\": \"FRA CAR 18X250 GEN VD DES K62H40 NG PAP\",\\n            \"quantity\": \"425,00\",\\n            \"price_per_unit\": \"7,650,00\",\\n            \"vat_percent\": \"0,00 %\",\\n            \"total_price\": \"0,1,912,50\"\\n        },\\n        {\\n            \"product_code\": \"8501025651\",\\n            \"description\": \"FRA CAR 18X250 GEN VD DES K62H40 NG PAP\",\\n            \"quantity\": \"397,00\",\\n            \"price_per_unit\": \"7,146,00\",\\n            \"vat_percent\": \"0,00 %\",\\n            \"total_price\": \"0,1,786,50\"\\n        },\\n        {\\n            \"product_code\": \"8501025626\",\\n            \"description\": \"FRA CAR 18X250 GEN VD DES K62H40 NG PAP\",\\n            \"quantity\": \"68,00\",\\n            \"price_per_unit\": \"1,324,00\",\\n            \"vat_percent\": \"0,00 %\",\\n            \"total_price\": \"0,3,825,00\"\\n        },\\n        {\\n            \"product_code\": \"8501025627\",\\n            \"description\": \"FRA CAR 18X250 GEN VD DES K62H40 NG PAP\",\\n            \"quantity\": \"340,00\",\\n            \"price_per_unit\": \"6,120,00\",\\n            \"vat_percent\": \"0,00 %\",\\n            \"total_price\": \"0,1,530,00\"\\n        },\\n        {\\n            \"product_code\": \"8501025628\",\\n            \"description\": \"FRA CAR 18X250 GEN VD DES K62H40 NG PAP\",\\n            \"quantity\": \"340,00\",\\n            \"price_per_unit\": \"6,120,00\",\\n            \"vat_percent\": \"0,00 %\",\\n            \"total_price\": \"0,1,530,00\"\\n        },\\n        {\\n            \"product_code\": \"8501025629\",\\n            \"description\": \"FRA CAR 18X250 GEN VD DES K62H40 NG PAP\",\\n            \"quantity\": \"255,00\",\\n            \"price_per_unit\": \"4,950,00\",\\n            \"vat_percent\": \"0,00 %\",\\n            \"total_price\": \"0,1,1,474,50\"\\n        },\\n        {\\n            \"product_code\": \"8501025650\",\\n            \"description\": \"FRA CAR 18X250 GEN VD DES K62H40 NG PAP\",\\n            \"quantity\": \"85,00\",\\n            \"price_per_unit\": \"1,530,00\",\\n            \"vat_percent\": \"0,00 %\",\\n            \"total_price\": \"0,382,50\"\\n        },\\n        {\\n            \"product_code\": \"8501025632\",\\n            \"description\": \"FRA CAR 18X250 GEN VD DES K62H40 NG PAP\",\\n            \"quantity\": \"218,00\",\\n            \"price_per_unit\": \"3,524,00\",\\n            \"vat_percent\": \"0,00 %\",\\n            \"total_price\": \"0,961,00\"\\n        },\\n        {\\n            \"product_code\": \"8501025655\",\\n            \"description\": \"FRA CAR 18X250 GEN VD DES K62H40 NG PAP\",\\n            \"quantity\": \"425,00\",\\n            \"price_per_unit\": \"7,650,00\",\\n            \"vat_percent\": \"0,00 %\",\\n            \"total_price\": \"0,1,912,50\"\\n        },\\n        {\\n            \"product_code\": \"8501025685\",\\n            \"description\": \"FRA CAR 18X250 GEN VD DES K62H40 NG PAP\",\\n            \"quantity\": \"355,00\",\\n            \"price_per_unit\": \"4,950,00\",\\n            \"vat_percent\": \"0,00 %\",\\n            \"total_price\": \"0,1,743,75\"\\n        },\\n        {\\n            \"product_code\": \"8501025686\",\\n            \"description\": \"FRA CAR 18X250 GEN VD DES K62H40 NG PAP\",\\n            \"quantity\": \"595,00\",\\n            \"price_per_unit\": \"10,710,00\",\\n            \"vat_percent\": \"0,00 %\",\\n            \"total_price\": \"0,2,677,50\"\\n        },\\n        {\\n            \"product_code\": \"8501025633\",\\n            \"description\": \"FRA CAR 18X250 GEN VD DES K62H40 NG PAP\",\\n            \"quantity\": \"170,00\",\\n            \"price_per_unit\": \"3,095,00\",\\n            \"vat_percent\": \"0,00 %\",\\n            \"total_price\": \"0,5,652,50\"\\n        }\\n    ],\\n    \"remaining_details\": {\\n        \"invoice_number\": \"500019353\",\\n        \"invoice_date\": \"2023-09-11\",\\n        \"payment_date\": null,\\n        \"due_date\": \"2023-09-12\",\\n        \"total_items\": 14,\\n        \"total_tax\": \"223,481,25\",\\n        \"tax_rate\": \"0,00 %\",\\n        \"supplier_name\": \"Surexport UK LTD\",\\n        \"supplier_address\": \"Great Queen Street 16 WC2B 5AH London\",\\n        \"supplier_vat_number\": \"GB328693957\",\\n        \"customer_name\": \"ORPLTD\",\\n        \"customer_address\": \"57-63 CHURCH ROAD SW19 5SB WIMBLEDON United Kingdom\",\\n        \"customer_company_vat_number\": \"GB125476511\",\\n        \"iban\": \"GB68EBUP23122876893326\",\\n        \"swift\": \"EBURGBA1XXX\",\\n        \"bic\": \"EBURGBA1XXX\",\\n        \"account_number\": \"12042810\",\\n        \"purchase_order\": \"PO 141800-141801-141802-141803-141804-141805-141799-141966-141974-1420210-141929-142029-142198-142200\",\\n        \"reference_numbers\": \"141800 A, 141805 A, 141804 M(F), 141804 A(MF), 141804 B, 141800 A(141804 A), 141805 (141805 A), 141804 (141804 M), 141804 (141804 B)\",\\n        \"country\": \"United Kingdom\",\\n        \"currency\": \"EUR\"\\n    }\\n}\\n```']\n"
     ]
    }
   ],
   "source": [
    "from config.invoice_config import get_qwen_prompt\n",
    "# Messages containing multiple images and a text query\n",
    "image_path_0 = 'C:/Users/ai.users/imscanCS/data/invoices/valid_invoices/output/page_0.png'\n",
    "image_path_1 = 'C:/Users/ai.users/imscanCS/data/invoices/valid_invoices/output/page_1.png'\n",
    "messages = [\n",
    "    {\n",
    "        \"role\": \"user\",\n",
    "        \"content\": [\n",
    "            {\"type\": \"image\", \"image\": image_path_0},\n",
    "            {\"type\": \"image\", \"image\": image_path_1},\n",
    "            # {\"type\": \"image\", \"image\": \"file:///path/to/image2.jpg\"},\n",
    "            {\"type\": \"text\", \"text\": get_qwen_prompt()},\n",
    "        ],\n",
    "    }\n",
    "]\n",
    "\n",
    "# Preparation for inference\n",
    "text = processor.apply_chat_template(\n",
    "    messages, tokenize=False, add_generation_prompt=True\n",
    ")\n",
    "image_inputs, video_inputs = process_vision_info(messages)\n",
    "inputs = processor(\n",
    "    text=[text],\n",
    "    images=image_inputs,\n",
    "    videos=video_inputs,\n",
    "    padding=True,\n",
    "    return_tensors=\"pt\",\n",
    ")\n",
    "inputs = inputs.to(\"cuda\")\n",
    "\n",
    "# Inference\n",
    "generated_ids = model.generate(**inputs, max_new_tokens=4000)\n",
    "generated_ids_trimmed = [\n",
    "    out_ids[len(in_ids) :] for in_ids, out_ids in zip(inputs.input_ids, generated_ids)\n",
    "]\n",
    "output_text = processor.batch_decode(\n",
    "    generated_ids_trimmed, skip_special_tokens=True, clean_up_tokenization_spaces=False\n",
    ")\n",
    "print(output_text)"
   ]
  },
  {
   "cell_type": "code",
   "execution_count": 5,
   "metadata": {},
   "outputs": [
    {
     "data": {
      "text/html": [
       "<table border=\"1\"><tr><th>line_items</th><td><table border=\"1\"><thead><tr><th>product_code</th><th>description</th><th>quantity</th><th>price_per_unit</th><th>vat_percent</th><th>total_price</th></tr></thead><tbody><tr><td>8501025580</td><td>FRA CAR 18X250 GEN VD DES K62H40 NG PAP</td><td>327,00</td><td>5,886,00</td><td>0,00 %</td><td>1,471,50</td></tr><tr><td>8501025581</td><td>FRA CAR 18X250 GEN VD DES K62H40 NG PAP</td><td>130,00</td><td>2,340,00</td><td>0,00 %</td><td>0,585,00</td></tr><tr><td>8501025585</td><td>FRA CAR 18X250 GEN VD DES K62H40 NG PAP</td><td>170,00</td><td>3,095,00</td><td>0,00 %</td><td>0,765,00</td></tr><tr><td>8501025611</td><td>FRA CAR 18X250 GEN VD DES K62H40 NG PAP</td><td>198,00</td><td>3,564,00</td><td>0,00 %</td><td>0,691,00</td></tr><tr><td>8501025625</td><td>FRA CAR 18X250 GEN VD DES K62H40 NG PAP</td><td>425,00</td><td>7,650,00</td><td>0,00 %</td><td>0,1,912,50</td></tr><tr><td>8501025651</td><td>FRA CAR 18X250 GEN VD DES K62H40 NG PAP</td><td>397,00</td><td>7,146,00</td><td>0,00 %</td><td>0,1,786,50</td></tr><tr><td>8501025626</td><td>FRA CAR 18X250 GEN VD DES K62H40 NG PAP</td><td>68,00</td><td>1,324,00</td><td>0,00 %</td><td>0,3,825,00</td></tr><tr><td>8501025627</td><td>FRA CAR 18X250 GEN VD DES K62H40 NG PAP</td><td>340,00</td><td>6,120,00</td><td>0,00 %</td><td>0,1,530,00</td></tr><tr><td>8501025628</td><td>FRA CAR 18X250 GEN VD DES K62H40 NG PAP</td><td>340,00</td><td>6,120,00</td><td>0,00 %</td><td>0,1,530,00</td></tr><tr><td>8501025629</td><td>FRA CAR 18X250 GEN VD DES K62H40 NG PAP</td><td>255,00</td><td>4,950,00</td><td>0,00 %</td><td>0,1,1,474,50</td></tr><tr><td>8501025650</td><td>FRA CAR 18X250 GEN VD DES K62H40 NG PAP</td><td>85,00</td><td>1,530,00</td><td>0,00 %</td><td>0,382,50</td></tr><tr><td>8501025632</td><td>FRA CAR 18X250 GEN VD DES K62H40 NG PAP</td><td>218,00</td><td>3,524,00</td><td>0,00 %</td><td>0,961,00</td></tr><tr><td>8501025655</td><td>FRA CAR 18X250 GEN VD DES K62H40 NG PAP</td><td>425,00</td><td>7,650,00</td><td>0,00 %</td><td>0,1,912,50</td></tr><tr><td>8501025685</td><td>FRA CAR 18X250 GEN VD DES K62H40 NG PAP</td><td>355,00</td><td>4,950,00</td><td>0,00 %</td><td>0,1,743,75</td></tr><tr><td>8501025686</td><td>FRA CAR 18X250 GEN VD DES K62H40 NG PAP</td><td>595,00</td><td>10,710,00</td><td>0,00 %</td><td>0,2,677,50</td></tr><tr><td>8501025633</td><td>FRA CAR 18X250 GEN VD DES K62H40 NG PAP</td><td>170,00</td><td>3,095,00</td><td>0,00 %</td><td>0,5,652,50</td></tr></tbody></table></td></tr><tr><th>remaining_details</th><td><table border=\"1\"><tr><th>invoice_number</th><td>500019353</td></tr><tr><th>invoice_date</th><td>2023-09-11</td></tr><tr><th>payment_date</th><td>None</td></tr><tr><th>due_date</th><td>2023-09-12</td></tr><tr><th>total_items</th><td>14</td></tr><tr><th>total_tax</th><td>223,481,25</td></tr><tr><th>tax_rate</th><td>0,00 %</td></tr><tr><th>supplier_name</th><td>Surexport UK LTD</td></tr><tr><th>supplier_address</th><td>Great Queen Street 16 WC2B 5AH London</td></tr><tr><th>supplier_vat_number</th><td>GB328693957</td></tr><tr><th>customer_name</th><td>ORPLTD</td></tr><tr><th>customer_address</th><td>57-63 CHURCH ROAD SW19 5SB WIMBLEDON United Kingdom</td></tr><tr><th>customer_company_vat_number</th><td>GB125476511</td></tr><tr><th>iban</th><td>GB68EBUP23122876893326</td></tr><tr><th>swift</th><td>EBURGBA1XXX</td></tr><tr><th>bic</th><td>EBURGBA1XXX</td></tr><tr><th>account_number</th><td>12042810</td></tr><tr><th>purchase_order</th><td>PO 141800-141801-141802-141803-141804-141805-141799-141966-141974-1420210-141929-142029-142198-142200</td></tr><tr><th>reference_numbers</th><td>141800 A, 141805 A, 141804 M(F), 141804 A(MF), 141804 B, 141800 A(141804 A), 141805 (141805 A), 141804 (141804 M), 141804 (141804 B)</td></tr><tr><th>country</th><td>United Kingdom</td></tr><tr><th>currency</th><td>EUR</td></tr></table></td></tr></table>"
      ],
      "text/plain": [
       "<IPython.core.display.HTML object>"
      ]
     },
     "metadata": {},
     "output_type": "display_data"
    }
   ],
   "source": [
    "import re, json\n",
    "def extract(response_text):\n",
    "    '''Extracts JSON data from model response.'''\n",
    "    match = re.search(r\"\\{.*\\}\", response_text, re.DOTALL)\n",
    "    if match:\n",
    "        extracted_data = json.loads(match.group(0))\n",
    "        return extracted_data\n",
    "    raise ValueError(\"No valid JSON found in response\")\n",
    "\n",
    "result = extract(output_text[0])\n",
    "\n",
    "from IPython.display import display, HTML\n",
    "from json2html import json2html\n",
    "\n",
    "html_response = json2html.convert(json=result)\n",
    "display(HTML(html_response))"
   ]
  },
  {
   "cell_type": "code",
   "execution_count": 18,
   "metadata": {},
   "outputs": [
    {
     "name": "stdout",
     "output_type": "stream",
     "text": [
      "JSON saved at: C:\\Users\\ai.users\\imscanCS\\invoice_outputs\\Qwen2.5-VL-7B-Instruct\\PerfectMatch.json\n"
     ]
    }
   ],
   "source": [
    "from config.settings import ROOT_DIR\n",
    "import os\n",
    "output_folder = ROOT_DIR / 'invoice_outputs'/ model_name.split('/')[-1]\n",
    "output_folder.mkdir(exist_ok=True)\n",
    "file_name = str(file_path).split('/')[-1][:-4]\n",
    "import json\n",
    "# Define full file path\n",
    "json_file_path = output_folder / f\"{file_name}.json\"\n",
    "\n",
    "# Save JSON file\n",
    "with open(json_file_path, \"w\", encoding=\"utf-8\") as json_file:\n",
    "    json.dump(result, json_file, indent=4)\n",
    "\n",
    "print(f\"JSON saved at: {json_file_path}\")"
   ]
  },
  {
   "cell_type": "code",
   "execution_count": null,
   "metadata": {},
   "outputs": [],
   "source": []
  }
 ],
 "metadata": {
  "kernelspec": {
   "display_name": "imscanCS",
   "language": "python",
   "name": "python3"
  },
  "language_info": {
   "codemirror_mode": {
    "name": "ipython",
    "version": 3
   },
   "file_extension": ".py",
   "mimetype": "text/x-python",
   "name": "python",
   "nbconvert_exporter": "python",
   "pygments_lexer": "ipython3",
   "version": "3.10.16"
  }
 },
 "nbformat": 4,
 "nbformat_minor": 2
}
