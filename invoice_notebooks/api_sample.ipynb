{
 "cells": [
  {
   "cell_type": "code",
   "execution_count": 58,
   "metadata": {},
   "outputs": [
    {
     "data": {
      "text/plain": [
       "WindowsPath('C:/Users/ai.users/imscanCS/data/invoices/valid_invoices/PO139090 GP.pdf')"
      ]
     },
     "execution_count": 58,
     "metadata": {},
     "output_type": "execute_result"
    }
   ],
   "source": [
    "from config.settings import SRC_DIR, DATA_DIR\n",
    "import os\n",
    "os.chdir(SRC_DIR)\n",
    "\n",
    "file_dir = DATA_DIR / 'invoices' / 'valid_invoices'\n",
    "files = os.listdir(file_dir)\n",
    "file = file_dir /files[3]\n",
    "file"
   ]
  },
  {
   "cell_type": "code",
   "execution_count": 59,
   "metadata": {},
   "outputs": [
    {
     "name": "stdout",
     "output_type": "stream",
     "text": [
      "Catalina, Baní, República Dominicana Estado : GLOBAL G.A.P. Certificado\n",
      "Tels.: (829)-341-4429/(809)-756-2359 GGN:4049929957572\n",
      "E-mail: Dotfruits@hotmail.com\n",
      "RNC:1-3026640-9\n",
      "Fecha: 20/08/2023 Factura para Exportaciones\n",
      "Consignatario: Direct Produce Supplies LTD NCF: B1600002418\n",
      "Factura: 5424 Valido Hasta: 31-12-2024\n",
      "Direccion:\n",
      "Notificar: M&B Felixstowe LTD\n",
      "Puerto de Embarque: Caucedo Naviera: Hapag-Lloyd\n",
      "TOTAL KGS TOTAL KGS\n",
      "CANTIDAD ENVASE DESCRIPCION TOTAL LBS BRUTAS PRECIO VALOR TOTAL US$\n",
      "BRUTOS NETOS\n",
      "5,544 BOXES FRESH MANGOES 47,787 24,125 22,176 5 .25 2 9,106.00\n",
      "CONTENEDOR: SELLO: REG. TEMP.:\n",
      "HLBU 908214-9 DGA-EXP1403247 MFXYN02XTV\n",
      "HLG6904990\n",
      "TEMPERATURA: 9°C\n",
      "HUMEDAD 90%\n",
      "VENTILACION 60 CMB/H\n",
      "5,544 BOXES VALOR TOTAL US$ 2 9,106.00\n"
     ]
    }
   ],
   "source": [
    "import pdfplumber\n",
    "def get_text(file_path):\n",
    "    with pdfplumber.open(file_path) as pdf:\n",
    "        text = ''\n",
    "        for page in pdf.pages:\n",
    "            text += page.extract_text()\n",
    "\n",
    "    return text\n",
    "\n",
    "invoice_text = get_text(file)\n",
    "print(invoice_text)"
   ]
  },
  {
   "cell_type": "code",
   "execution_count": 60,
   "metadata": {},
   "outputs": [],
   "source": [
    "def get_prompt(text):\n",
    "    prompt = \"\"\"\n",
    "    You are an **invoice extractor**. Your task is to extract structured invoice details from the provided text and return **only the JSON output** in the following format:\n",
    "\n",
    "    {\n",
    "        \"line_items\": [\n",
    "            {\n",
    "                \"product_code\": \"string\",\n",
    "                \"description\": \"string\",\n",
    "                \"quantity\": \"string\",\n",
    "                \"price_per_unit\": \"string\",\n",
    "                \"vat_percent\": \"string\",\n",
    "                \"total_price\": \"string\"\n",
    "            }\n",
    "        ],\n",
    "        \"total_amount\": {\n",
    "            \"total_items\": number,\n",
    "            \"total_tax\": \"string\",\n",
    "            \"total_price\": \"string\"\n",
    "        },\n",
    "        \"due_date\": \"YYYY-MM-DD\",\n",
    "        \"payment_date\": \"YYYY-MM-DD\",\n",
    "        \"invoice_date\": \"YYYY-MM-DD\",\n",
    "        \"invoice_number\": \"string\",\n",
    "        \"purchase_order\": \"string\",\n",
    "        \"reference_numbers\": [\"string\"],\n",
    "        \"locale\": \"string\",\n",
    "        \"country\": \"string\",\n",
    "        \"currency\": \"string\",\n",
    "        \"payment_details\": {\n",
    "            \"iban\": \"string\",\n",
    "            \"swift\": \"string\",\n",
    "            \"bic\": \"string\",\n",
    "            \"account_number\": \"string\"\n",
    "        },\n",
    "        \"vat_number\": \"string\",\n",
    "        \"supplier_name\": \"string\",\n",
    "        \"taxes_details\": [\n",
    "            {\n",
    "                \"rate\": \"string\",\n",
    "                \"amount\": \"string\"\n",
    "            }\n",
    "        ],\n",
    "        \"total_amount_including_taxes\": \"string\",\n",
    "        \"total_net_amount_excluding_taxes\": \"string\",\n",
    "        \"customer_address\": \"string\",\n",
    "        \"shipping_address\": \"string\",\n",
    "        \"billing_address\": \"string\",\n",
    "        \"customer_company_registrations\": {\n",
    "            \"vat_number\": \"string\"\n",
    "        },\n",
    "        \"customer_name\": \"string\",\n",
    "        \"supplier_address\": \"string\"\n",
    "    }\n",
    "\n",
    "    **Strict Output Rules:**\n",
    "    - **Only return the data in JSON format.**\n",
    "    - **Do not include any explanation, additional text, or non-JSON output.**\n",
    "    - Precisely capture dates such as invoice date, due date, and payment date. You may find this in many ways like `payment terms`, `payment conditions` etc saying like `within X days`, `X days from date of INVOICE` or similar. If a due date is not directly provided but 'due in X days' is indicated, calculate it by adding X days to the invoice date.**\n",
    "    - **If any value is missing, set it to `null`. Do not infer missing details or hallucinate.**\n",
    "    - **Strictly follow the data types and format specified.**\n",
    "    - **The output must be a valid JSON object without any additional markdown or text.**\n",
    "\n",
    "    ### Invoice Text:\n",
    "\n",
    "    \"\"\" + text\n",
    "\n",
    "    return prompt"
   ]
  },
  {
   "cell_type": "code",
   "execution_count": 12,
   "metadata": {},
   "outputs": [
    {
     "data": {
      "application/vnd.jupyter.widget-view+json": {
       "model_id": "36ef5378a7fe4f95acae3695bde57882",
       "version_major": 2,
       "version_minor": 0
      },
      "text/plain": [
       "Loading checkpoint shards:   0%|          | 0/8 [00:00<?, ?it/s]"
      ]
     },
     "metadata": {},
     "output_type": "display_data"
    }
   ],
   "source": [
    "import torch\n",
    "from transformers import AutoModelForCausalLM, AutoTokenizer, BitsAndBytesConfig\n",
    "\n",
    "# Load the model with 4-bit quantization\n",
    "def load_model(model_name=\"Qwen/Qwen2.5-14B\"):\n",
    "    bnb_config = BitsAndBytesConfig(\n",
    "        load_in_4bit=True,  # Enable 4-bit quantization\n",
    "        bnb_4bit_compute_dtype=torch.bfloat16  # Use bfloat16 for computation\n",
    "    )\n",
    "\n",
    "    model = AutoModelForCausalLM.from_pretrained(\n",
    "        model_name,\n",
    "        device_map=\"cuda\",  # Automatically map to available devices\n",
    "        quantization_config=bnb_config\n",
    "    )\n",
    "\n",
    "    tokenizer = AutoTokenizer.from_pretrained(model_name, use_fast=True)\n",
    "\n",
    "    return model, tokenizer\n",
    "\n",
    "# Example: Use 4-bit quantized model to process an invoice\n",
    "# Load model and tokenizer with 4-bit quantization\n",
    "model, tokenizer = load_model()"
   ]
  },
  {
   "cell_type": "code",
   "execution_count": 61,
   "metadata": {},
   "outputs": [
    {
     "name": "stderr",
     "output_type": "stream",
     "text": [
      "Setting `pad_token_id` to `eos_token_id`:151643 for open-end generation.\n"
     ]
    }
   ],
   "source": [
    "# Get the prompt for the invoice text\n",
    "prompt = get_prompt(invoice_text)\n",
    "\n",
    "# Prepare messages for the model\n",
    "messages = [\n",
    "    {\"role\": \"system\", \"content\": \"You are Qwen, created by Alibaba Cloud. You are a helpful assistant for extracting invoices.\"},\n",
    "    {\"role\": \"user\", \"content\": prompt}\n",
    "]\n",
    "\n",
    "# Convert the prompt into the format the model can process\n",
    "text = tokenizer.apply_chat_template(\n",
    "    messages,\n",
    "    tokenize=False,\n",
    "    add_generation_prompt=True\n",
    ")\n",
    "\n",
    "# Tokenize the input text and move it to the model's device\n",
    "model_inputs = tokenizer([text], return_tensors=\"pt\").to(model.device)\n",
    "\n",
    "# Generate response from the model\n",
    "generated_ids = model.generate(\n",
    "    **model_inputs,\n",
    "    max_new_tokens=1024\n",
    ")\n",
    "\n",
    "# Remove the input tokens from the generated output\n",
    "generated_ids = [\n",
    "    output_ids[len(input_ids):] for input_ids, output_ids in zip(model_inputs.input_ids, generated_ids)\n",
    "]\n",
    "\n",
    "# Decode the generated tokens into text\n",
    "response = tokenizer.batch_decode(generated_ids)[0]"
   ]
  },
  {
   "cell_type": "code",
   "execution_count": 62,
   "metadata": {},
   "outputs": [
    {
     "data": {
      "text/plain": [
       "{'line_items': [{'product_code': None,\n",
       "   'description': 'FRESH MANGOES',\n",
       "   'quantity': '5,544 BOXES',\n",
       "   'price_per_unit': None,\n",
       "   'vat_percent': None,\n",
       "   'total_price': '29,106.00'}],\n",
       " 'total_amount': {'total_items': None,\n",
       "  'total_tax': None,\n",
       "  'total_price': '29,106.00'},\n",
       " 'due_date': None,\n",
       " 'payment_date': None,\n",
       " 'invoice_date': '2023-08-20',\n",
       " 'invoice_number': '5424',\n",
       " 'purchase_order': None,\n",
       " 'reference_numbers': ['B1600002418'],\n",
       " 'locale': None,\n",
       " 'country': None,\n",
       " 'currency': 'US$',\n",
       " 'payment_details': {'iban': None,\n",
       "  'swift': None,\n",
       "  'bic': None,\n",
       "  'account_number': None},\n",
       " 'vat_number': None,\n",
       " 'supplier_name': None,\n",
       " 'taxes_details': [{'rate': None, 'amount': None}],\n",
       " 'total_amount_including_taxes': None,\n",
       " 'total_net_amount_excluding_taxes': None,\n",
       " 'customer_address': None,\n",
       " 'shipping_address': None,\n",
       " 'billing_address': None,\n",
       " 'customer_company_registrations': {'vat_number': None},\n",
       " 'customer_name': None,\n",
       " 'supplier_address': None}"
      ]
     },
     "execution_count": 62,
     "metadata": {},
     "output_type": "execute_result"
    }
   ],
   "source": [
    "import re, json\n",
    "clean_json_string = re.sub(r'<\\|endoftext\\|>', '', response).strip()\n",
    "\n",
    "output = json.loads(clean_json_string)\n",
    "output"
   ]
  },
  {
   "cell_type": "code",
   "execution_count": 63,
   "metadata": {},
   "outputs": [
    {
     "data": {
      "text/html": [
       "<table border=\"1\"><tr><th>line_items</th><td><table border=\"1\"><thead><tr><th>product_code</th><th>description</th><th>quantity</th><th>price_per_unit</th><th>vat_percent</th><th>total_price</th></tr></thead><tbody><tr><td>None</td><td>FRESH MANGOES</td><td>5,544 BOXES</td><td>None</td><td>None</td><td>29,106.00</td></tr></tbody></table></td></tr><tr><th>total_amount</th><td><table border=\"1\"><tr><th>total_items</th><td>None</td></tr><tr><th>total_tax</th><td>None</td></tr><tr><th>total_price</th><td>29,106.00</td></tr></table></td></tr><tr><th>due_date</th><td>None</td></tr><tr><th>payment_date</th><td>None</td></tr><tr><th>invoice_date</th><td>2023-08-20</td></tr><tr><th>invoice_number</th><td>5424</td></tr><tr><th>purchase_order</th><td>None</td></tr><tr><th>reference_numbers</th><td><ul><li>B1600002418</li></ul></td></tr><tr><th>locale</th><td>None</td></tr><tr><th>country</th><td>None</td></tr><tr><th>currency</th><td>US$</td></tr><tr><th>payment_details</th><td><table border=\"1\"><tr><th>iban</th><td>None</td></tr><tr><th>swift</th><td>None</td></tr><tr><th>bic</th><td>None</td></tr><tr><th>account_number</th><td>None</td></tr></table></td></tr><tr><th>vat_number</th><td>None</td></tr><tr><th>supplier_name</th><td>None</td></tr><tr><th>taxes_details</th><td><table border=\"1\"><thead><tr><th>rate</th><th>amount</th></tr></thead><tbody><tr><td>None</td><td>None</td></tr></tbody></table></td></tr><tr><th>total_amount_including_taxes</th><td>None</td></tr><tr><th>total_net_amount_excluding_taxes</th><td>None</td></tr><tr><th>customer_address</th><td>None</td></tr><tr><th>shipping_address</th><td>None</td></tr><tr><th>billing_address</th><td>None</td></tr><tr><th>customer_company_registrations</th><td><table border=\"1\"><tr><th>vat_number</th><td>None</td></tr></table></td></tr><tr><th>customer_name</th><td>None</td></tr><tr><th>supplier_address</th><td>None</td></tr></table>"
      ],
      "text/plain": [
       "<IPython.core.display.HTML object>"
      ]
     },
     "metadata": {},
     "output_type": "display_data"
    }
   ],
   "source": [
    "from json2html import json2html\n",
    "from IPython.display import display, HTML\n",
    "\n",
    "# Convert JSON to an HTML table\n",
    "html_table = json2html.convert(json=output)\n",
    "\n",
    "# Display the table\n",
    "display(HTML(html_table))"
   ]
  },
  {
   "cell_type": "code",
   "execution_count": 64,
   "metadata": {},
   "outputs": [
    {
     "name": "stdout",
     "output_type": "stream",
     "text": [
      "JSON saved at: C:\\Users\\ai.users\\imscanCS\\data\\invoices\\output_invoices\\PO139090 GP.json\n"
     ]
    }
   ],
   "source": [
    "output_folder = os.path.join(DATA_DIR / 'invoices'/ 'output_invoices')\n",
    "file_name = str(file).split('\\\\')[-1][:-4]\n",
    "import json\n",
    "# Define full file path\n",
    "json_file_path = os.path.join(output_folder, f\"{file_name}.json\")\n",
    "\n",
    "# Save JSON file\n",
    "with open(json_file_path, \"w\", encoding=\"utf-8\") as json_file:\n",
    "    json.dump(output, json_file, indent=4)\n",
    "\n",
    "print(f\"JSON saved at: {json_file_path}\")"
   ]
  },
  {
   "cell_type": "code",
   "execution_count": 68,
   "metadata": {},
   "outputs": [
    {
     "name": "stdout",
     "output_type": "stream",
     "text": [
      "Merged JSON saved at: C:\\Users\\ai.users\\imscanCS\\data\\invoices\\output_invoices\\merged_output.json\n"
     ]
    }
   ],
   "source": [
    "# List all JSON files in the output folder\n",
    "json_files = [f for f in os.listdir(output_folder) if f.endswith('.json')]\n",
    "\n",
    "# Initialize an empty list to hold the merged JSON data\n",
    "merged_data = []\n",
    "\n",
    "# Read and append all JSON files\n",
    "for json_file in json_files:\n",
    "    file_path = os.path.join(output_folder, json_file)\n",
    "    with open(file_path, \"r\", encoding=\"utf-8\") as f:\n",
    "        try:\n",
    "            data = json.load(f)\n",
    "            merged_data.append(data)\n",
    "        except json.JSONDecodeError as e:\n",
    "            print(f\"Error reading {json_file}: {e}\")\n",
    "\n",
    "# Define the merged JSON output file\n",
    "merged_json_path = os.path.join(output_folder, \"merged_output.json\")\n",
    "\n",
    "# Save the merged data as a single JSON file\n",
    "with open(merged_json_path, \"w\", encoding=\"utf-8\") as f:\n",
    "    json.dump(merged_data, f, indent=4)\n",
    "\n",
    "print(f\"Merged JSON saved at: {merged_json_path}\")"
   ]
  },
  {
   "cell_type": "code",
   "execution_count": null,
   "metadata": {},
   "outputs": [],
   "source": []
  }
 ],
 "metadata": {
  "kernelspec": {
   "display_name": "imscanCS",
   "language": "python",
   "name": "python3"
  },
  "language_info": {
   "codemirror_mode": {
    "name": "ipython",
    "version": 3
   },
   "file_extension": ".py",
   "mimetype": "text/x-python",
   "name": "python",
   "nbconvert_exporter": "python",
   "pygments_lexer": "ipython3",
   "version": "3.13.2"
  }
 },
 "nbformat": 4,
 "nbformat_minor": 2
}
