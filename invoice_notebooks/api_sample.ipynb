{
 "cells": [
  {
   "cell_type": "code",
   "execution_count": 1,
   "metadata": {},
   "outputs": [],
   "source": [
    "from config.settings import SRC_DIR\n",
    "import os\n",
    "os.chdir(SRC_DIR)"
   ]
  },
  {
   "cell_type": "code",
   "execution_count": 2,
   "metadata": {},
   "outputs": [
    {
     "data": {
      "text/plain": [
       "['invoice', 'ISS', 'PerfectMatch', 'PO139090 GP']"
      ]
     },
     "execution_count": 2,
     "metadata": {},
     "output_type": "execute_result"
    }
   ],
   "source": [
    "from config.settings import DATA_DIR\n",
    "import os\n",
    "\n",
    "file_dir = DATA_DIR / 'valid_invoices'\n",
    "files = os.listdir(file_dir)\n",
    "file_names = [file[:-4] for file in files if file.endswith('.pdf')]\n",
    "file_paths = [file_dir/file for file in files if file.endswith('.pdf')]\n",
    "file_names"
   ]
  },
  {
   "cell_type": "code",
   "execution_count": 3,
   "metadata": {},
   "outputs": [
    {
     "ename": "ModuleNotFoundError",
     "evalue": "No module named 'invoice_processing_system'",
     "output_type": "error",
     "traceback": [
      "\u001b[1;31m---------------------------------------------------------------------------\u001b[0m",
      "\u001b[1;31mModuleNotFoundError\u001b[0m                       Traceback (most recent call last)",
      "Cell \u001b[1;32mIn[3], line 2\u001b[0m\n\u001b[0;32m      1\u001b[0m \u001b[38;5;28;01mfrom\u001b[39;00m\u001b[38;5;250m \u001b[39m\u001b[38;5;21;01mtqdm\u001b[39;00m\u001b[38;5;21;01m.\u001b[39;00m\u001b[38;5;21;01mauto\u001b[39;00m\u001b[38;5;250m \u001b[39m\u001b[38;5;28;01mimport\u001b[39;00m tqdm\n\u001b[1;32m----> 2\u001b[0m \u001b[38;5;28;01mfrom\u001b[39;00m\u001b[38;5;250m \u001b[39m\u001b[38;5;21;01minvoice_processing_system\u001b[39;00m\u001b[38;5;21;01m.\u001b[39;00m\u001b[38;5;21;01mcomponents\u001b[39;00m\u001b[38;5;21;01m.\u001b[39;00m\u001b[38;5;21;01mdata_ingestion\u001b[39;00m\u001b[38;5;250m \u001b[39m\u001b[38;5;28;01mimport\u001b[39;00m DataIngestion\n\u001b[0;32m      3\u001b[0m \u001b[38;5;28;01mfrom\u001b[39;00m\u001b[38;5;250m \u001b[39m\u001b[38;5;21;01minvoice_processing_system\u001b[39;00m\u001b[38;5;21;01m.\u001b[39;00m\u001b[38;5;21;01mcomponents\u001b[39;00m\u001b[38;5;21;01m.\u001b[39;00m\u001b[38;5;21;01mdata_extraction\u001b[39;00m\u001b[38;5;250m \u001b[39m\u001b[38;5;28;01mimport\u001b[39;00m DataExtraction\n\u001b[0;32m      5\u001b[0m pdf_items \u001b[38;5;241m=\u001b[39m []\n",
      "\u001b[1;31mModuleNotFoundError\u001b[0m: No module named 'invoice_processing_system'"
     ]
    }
   ],
   "source": [
    "from tqdm.auto import tqdm\n",
    "from invoice_processing_system.components.data_ingestion import DataIngestion\n",
    "from invoice_processing_system.components.data_extraction import DataExtraction\n",
    "\n",
    "pdf_items = []\n",
    "for pdf, pdf_path in zip(tqdm(file_names),file_paths):\n",
    "\n",
    "    data_ingester = DataIngestion(pdf_path)\n",
    "    data_extracter = DataExtraction(data_ingester)\n",
    "    pages, tables, images = data_extracter.extract_data()\n",
    "    pdf_items.append(pages)"
   ]
  },
  {
   "cell_type": "code",
   "execution_count": null,
   "metadata": {},
   "outputs": [
    {
     "name": "stderr",
     "output_type": "stream",
     "text": [
      "INFO:root:Loading model and tokenizer...\n",
      "INFO:accelerate.utils.modeling:We will use 90% of the memory on device 0 for storing the model, and 10% for the buffer to avoid OOM. You can set `max_memory` in to a higher value to use more memory (at your own risk).\n"
     ]
    },
    {
     "data": {
      "application/vnd.jupyter.widget-view+json": {
       "model_id": "13d8c6b2d49043bab9ed373a1d67620a",
       "version_major": 2,
       "version_minor": 0
      },
      "text/plain": [
       "Loading checkpoint shards:   0%|          | 0/8 [00:00<?, ?it/s]"
      ]
     },
     "metadata": {},
     "output_type": "display_data"
    },
    {
     "name": "stderr",
     "output_type": "stream",
     "text": [
      "Device set to use cuda:0\n",
      "INFO:root:Model loaded successfully!\n"
     ]
    }
   ],
   "source": [
    "import os\n",
    "from invoice_processing_system.components.model_inference import ModelInference\n",
    "\n",
    "# Define the PDF folder path\n",
    "pdf_folder = os.path.join(file_dir, 'invoice_output', pdf, 'invoice_14b')\n",
    "\n",
    "# Ensure the directory exists\n",
    "os.makedirs(pdf_folder, exist_ok=True)\n",
    "\n",
    "# Initialize the model\n",
    "model = ModelInference(model_name=\"Qwen/Qwen2.5-14B\")"
   ]
  },
  {
   "cell_type": "code",
   "execution_count": 8,
   "metadata": {},
   "outputs": [
    {
     "data": {
      "application/vnd.jupyter.widget-view+json": {
       "model_id": "d7e344cfd9a34a398954a763b99fb07d",
       "version_major": 2,
       "version_minor": 0
      },
      "text/plain": [
       "Processing Items:   0%|          | 0/1 [00:00<?, ?item/s]"
      ]
     },
     "metadata": {},
     "output_type": "display_data"
    },
    {
     "name": "stderr",
     "output_type": "stream",
     "text": [
      "INFO:root:Saved: C:\\Users\\ai.users\\local_ocr\\data\\valid_invoices\\invoice_output\\PO139090 GP\\invoice_14b\\qc_report_item_0.json\n"
     ]
    }
   ],
   "source": [
    "# print(model.get_prompt(all_items[0]))\n",
    "# Process items\n",
    "response = model.process_items(pages, output_folder=pdf_folder)"
   ]
  },
  {
   "cell_type": "code",
   "execution_count": null,
   "metadata": {},
   "outputs": [],
   "source": []
  }
 ],
 "metadata": {
  "kernelspec": {
   "display_name": "venv",
   "language": "python",
   "name": "python3"
  },
  "language_info": {
   "codemirror_mode": {
    "name": "ipython",
    "version": 3
   },
   "file_extension": ".py",
   "mimetype": "text/x-python",
   "name": "python",
   "nbconvert_exporter": "python",
   "pygments_lexer": "ipython3",
   "version": "3.13.2"
  }
 },
 "nbformat": 4,
 "nbformat_minor": 2
}
