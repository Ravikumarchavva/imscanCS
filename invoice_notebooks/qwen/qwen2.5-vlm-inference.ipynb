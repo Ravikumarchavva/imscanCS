{
 "cells": [
  {
   "cell_type": "code",
   "execution_count": 4,
   "metadata": {},
   "outputs": [],
   "source": [
    "from config.settings import SRC_DIR, DATA_DIR\n",
    "import os\n",
    "from pathlib import Path\n",
    "from pdf2image import convert_from_path\n",
    "\n",
    "import torch\n",
    "\n",
    "# Change working directory\n",
    "os.chdir(SRC_DIR)\n",
    "\n",
    "# Define file path\n",
    "file_dir = DATA_DIR / 'invoices' / 'valid_invoices'\n",
    "files = os.listdir(file_dir)\n",
    "file_path = file_dir / files[0]"
   ]
  },
  {
   "cell_type": "code",
   "execution_count": 5,
   "metadata": {},
   "outputs": [],
   "source": [
    "file_path = \"C:/Users/ai.users/imscanCS/data/invoices/valid_invoices/PerfectMatch.pdf\"\n",
    "output_path = \"C:/Users/ai.users/imscanCS/data/invoices/valid_invoices/output\"\n",
    "import fitz  # pymupdf\n",
    "\n",
    "doc = fitz.open(str(file_path))\n",
    "for i, page in enumerate(doc):\n",
    "    pix = page.get_pixmap()\n",
    "    pix.save(f\"{output_path}/page_{i}.png\") "
   ]
  },
  {
   "cell_type": "code",
   "execution_count": 6,
   "metadata": {},
   "outputs": [
    {
     "data": {
      "application/vnd.jupyter.widget-view+json": {
       "model_id": "06568eb272d74abc97e1a909251f2242",
       "version_major": 2,
       "version_minor": 0
      },
      "text/plain": [
       "Loading checkpoint shards:   0%|          | 0/5 [00:00<?, ?it/s]"
      ]
     },
     "metadata": {},
     "output_type": "display_data"
    }
   ],
   "source": [
    "from transformers import Qwen2_5_VLForConditionalGeneration, AutoProcessor\n",
    "from qwen_vl_utils import process_vision_info\n",
    "from transformers import BitsAndBytesConfig\n",
    "\n",
    "# Define the model name\n",
    "model_name = \"Qwen/Qwen2.5-VL-7B-Instruct\"\n",
    "\n",
    "# Configure 8-bit loading\n",
    "quantization_config = BitsAndBytesConfig(load_in_8bit=True)\n",
    "\n",
    "# Load the model with 8-bit precision\n",
    "model = Qwen2_5_VLForConditionalGeneration.from_pretrained(\n",
    "    model_name,\n",
    "    quantization_config=quantization_config,\n",
    "    device_map=\"auto\"  # Automatically assigns layers to available devices\n",
    ")\n",
    "\n",
    "# Load the processor\n",
    "processor = AutoProcessor.from_pretrained(model_name)"
   ]
  },
  {
   "cell_type": "code",
   "execution_count": 7,
   "metadata": {},
   "outputs": [],
   "source": [
    "def get_prompt():\n",
    "    prompt = \"\"\"\n",
    "    You are an **invoice extractor**. Your task is to extract structured invoice details from the provided image and return **only the JSON output** in the following format:\n",
    "\n",
    "    {\n",
    "        \"line_items\": [\n",
    "            {\n",
    "                \"product_code\": \"string\",\n",
    "                \"description\": \"string\",\n",
    "                \"quantity\": \"string\",\n",
    "                \"price_per_unit\": \"string\",\n",
    "                \"vat_percent\": \"string\",\n",
    "                \"total_price\": \"string\"\n",
    "            }\n",
    "        ],\n",
    "        \"total_amount\": {\n",
    "            \"total_items\": number,\n",
    "            \"total_tax\": \"string\",\n",
    "            \"total_price\": \"string\"\n",
    "        },\n",
    "        \"due_date\": \"YYYY-MM-DD\",\n",
    "        \"payment_date\": \"YYYY-MM-DD\",\n",
    "        \"invoice_date\": \"YYYY-MM-DD\",\n",
    "        \"invoice_number\": \"string\",\n",
    "        \"purchase_order\": \"string\",\n",
    "        \"reference_numbers\": [\"string\"],\n",
    "        \"locale\": \"string\",\n",
    "        \"country\": \"string\",\n",
    "        \"currency\": \"string\",\n",
    "        \"payment_details\": {\n",
    "            \"iban\": \"string\",\n",
    "            \"swift\": \"string\",\n",
    "            \"bic\": \"string\",\n",
    "            \"account_number\": \"string\"\n",
    "        },\n",
    "        \"vat_number\": \"string\",\n",
    "        \"supplier_name\": \"string\",\n",
    "        \"taxes_details\": [\n",
    "            {\n",
    "                \"rate\": \"string\",\n",
    "                \"amount\": \"string\"\n",
    "            }\n",
    "        ],\n",
    "        \"total_amount_including_taxes\": \"string\",\n",
    "        \"total_net_amount_excluding_taxes\": \"string\",\n",
    "        \"customer_address\": \"string\",\n",
    "        \"shipping_address\": \"string\",\n",
    "        \"billing_address\": \"string\",\n",
    "        \"customer_company_registrations\": {\n",
    "            \"vat_number\": \"string\"\n",
    "        },\n",
    "        \"customer_name\": \"string\",\n",
    "        \"supplier_address\": \"string\"\n",
    "    }\n",
    "\n",
    "    **Strict Output Rules:**\n",
    "    - **Only return the data in JSON format.**\n",
    "    - **Do not include any explanation, additional text, or non-JSON output.**\n",
    "    - Precisely capture dates such as invoice date, due date, and payment date. You may find this in many ways like `payment terms`, `payment conditions` etc saying like `within X days`, `X days from date of INVOICE` or similar. If a due date is not directly provided but 'due in X days' is indicated, calculate it by adding X days to the invoice date.**\n",
    "    - **If any value is missing, set it to `null`. Do not infer missing details or hallucinate.**\n",
    "    - **Strictly follow the data types and format specified.**\n",
    "    - **The output must be a valid JSON object without any additional markdown or text.**\n",
    "\n",
    "    ### Invoice image:\n",
    "\n",
    "    \"\"\"\n",
    "    return prompt"
   ]
  },
  {
   "cell_type": "code",
   "execution_count": 8,
   "metadata": {},
   "outputs": [
    {
     "name": "stdout",
     "output_type": "stream",
     "text": [
      "Page 1 Output: ['```json\\n{\\n    \"line_items\": [\\n        {\\n            \"product_code\": \"K37F/40mm Punnets + *100% PAPER* Black Soak Pad x 950 pcs w2\",\\n            \"description\": \"K37F/40mm Punnets + *100% PAPER* Black Soak Pad x 950 pcs w2\",\\n            \"quantity\": \"286.00\",\\n            \"price_per_unit\": \"45.39\",\\n            \"vat_percent\": \"20.00\",\\n            \"total_price\": \"13,072.32\"\\n        }\\n    ],\\n    \"total_amount\": {\\n        \"total_items\": 1,\\n        \"total_tax\": \"2,614.46\",\\n        \"total_price\": \"15,686.78\"\\n    },\\n    \"due_date\": \"2023-09-29\",\\n    \"payment_date\": null,\\n    \"invoice_date\": \"2023-08-30\",\\n    \"invoice_number\": \"1025991\",\\n    \"purchase_order\": \"PO# 12183\",\\n    \"reference_numbers\": [\"D0T 82303766\", \"D0T 82305223\"],\\n    \"locale\": \"en\",\\n    \"country\": \"GB\",\\n    \"currency\": \"GBP\",\\n    \"payment_details\": {\\n        \"iban\": \"GB22 BARC 2022 7550 7848 34\",\\n        \"swift\": \"BARCGB22\",\\n        \"bic\": \"BARCGB22\",\\n        \"account_number\": \"50784834\"\\n    },\\n    \"vat_number\": \"700088278\",\\n    \"supplier_name\": \"Infia UK Limited\",\\n    \"taxes_details\": [\\n        {\\n            \"rate\": \"20.00%\",\\n            \"amount\": \"2,614.46\"\\n        }\\n    ],\\n    \"total_amount_including_taxes\": \"15,686.78\",\\n    \"total_net_amount_excluding_taxes\": \"13,072.32\",\\n    \"customer_address\": \"Unit 4 Conqueror Court Sittingbourne Kent ME10 5BH\",\\n    \"shipping_address\": \"Triple Ash Nursery 75A Lockgate Road Sidlesham Common West Sussex PO20 7QQ\",\\n    \"billing_address\": \"Triple Ash Nursery 75A Lockgate Road Sidlesham Common West Sussex PO20 7QQ\",\\n    \"customer_company_registrations\": {\\n        \"vat_number\": \"700088278\"\\n    },\\n    \"customer_name\": \"Berry Farming Ltd\",\\n    \"supplier_address\": \"Beech Gate Peterborough Road Whittlesey Cambridgeshire PE7 1FB\"\\n}\\n```']\n"
     ]
    }
   ],
   "source": [
    "import os\n",
    "from PIL import Image\n",
    "import torch\n",
    "\n",
    "# Define output path where images are saved\n",
    "outputpath = \"C:/Users/ai.users/imscanCS/data/invoices/valid_invoices/output/\"\n",
    "# List all images in the outputpath directory\n",
    "image_files = [f for f in os.listdir(outputpath) if f.endswith('.jpg') or f.endswith('.png')]\n",
    "\n",
    "# Process each image file\n",
    "for i, image_file in enumerate(image_files):\n",
    "    # Load the image from outputpath\n",
    "    image_path = os.path.join(outputpath, image_file)\n",
    "    image = Image.open(image_path)\n",
    "\n",
    "    # Prepare the messages\n",
    "    messages = [\n",
    "        {\n",
    "            \"role\": \"user\",\n",
    "            \"content\": [\n",
    "                {\"type\": \"image\", \"image\": image},\n",
    "                {\"type\": \"text\", \"text\": get_prompt()},\n",
    "            ],\n",
    "        }\n",
    "    ]\n",
    "\n",
    "    # Prepare inputs\n",
    "    text = processor.apply_chat_template(messages, tokenize=False, add_generation_prompt=True)\n",
    "    image_inputs, _ = process_vision_info(messages)\n",
    "    inputs = processor(text=[text], images=image_inputs, padding=True, return_tensors=\"pt\").to(model.device)\n",
    "\n",
    "    # Run inference\n",
    "    with torch.no_grad():\n",
    "        generated_ids = model.generate(**inputs, max_new_tokens=1024)\n",
    "        generated_ids_trimmed = [out[len(inp):] for inp, out in zip(inputs.input_ids, generated_ids)]\n",
    "        output_text = processor.batch_decode(generated_ids_trimmed, skip_special_tokens=True)\n",
    "\n",
    "    print(f\"Page {i + 1} Output: {output_text}\")"
   ]
  },
  {
   "cell_type": "code",
   "execution_count": 9,
   "metadata": {},
   "outputs": [
    {
     "data": {
      "text/html": [
       "<table border=\"1\"><tr><th>line_items</th><td><table border=\"1\"><thead><tr><th>product_code</th><th>description</th><th>quantity</th><th>price_per_unit</th><th>vat_percent</th><th>total_price</th></tr></thead><tbody><tr><td>K37F/40mm Punnets + *100% PAPER* Black Soak Pad x 950 pcs w2</td><td>K37F/40mm Punnets + *100% PAPER* Black Soak Pad x 950 pcs w2</td><td>286.00</td><td>45.39</td><td>20.00</td><td>13,072.32</td></tr></tbody></table></td></tr><tr><th>total_amount</th><td><table border=\"1\"><tr><th>total_items</th><td>1</td></tr><tr><th>total_tax</th><td>2,614.46</td></tr><tr><th>total_price</th><td>15,686.78</td></tr></table></td></tr><tr><th>due_date</th><td>2023-09-29</td></tr><tr><th>payment_date</th><td>None</td></tr><tr><th>invoice_date</th><td>2023-08-30</td></tr><tr><th>invoice_number</th><td>1025991</td></tr><tr><th>purchase_order</th><td>PO# 12183</td></tr><tr><th>reference_numbers</th><td><ul><li>D0T 82303766</li><li>D0T 82305223</li></ul></td></tr><tr><th>locale</th><td>en</td></tr><tr><th>country</th><td>GB</td></tr><tr><th>currency</th><td>GBP</td></tr><tr><th>payment_details</th><td><table border=\"1\"><tr><th>iban</th><td>GB22 BARC 2022 7550 7848 34</td></tr><tr><th>swift</th><td>BARCGB22</td></tr><tr><th>bic</th><td>BARCGB22</td></tr><tr><th>account_number</th><td>50784834</td></tr></table></td></tr><tr><th>vat_number</th><td>700088278</td></tr><tr><th>supplier_name</th><td>Infia UK Limited</td></tr><tr><th>taxes_details</th><td><table border=\"1\"><thead><tr><th>rate</th><th>amount</th></tr></thead><tbody><tr><td>20.00%</td><td>2,614.46</td></tr></tbody></table></td></tr><tr><th>total_amount_including_taxes</th><td>15,686.78</td></tr><tr><th>total_net_amount_excluding_taxes</th><td>13,072.32</td></tr><tr><th>customer_address</th><td>Unit 4 Conqueror Court Sittingbourne Kent ME10 5BH</td></tr><tr><th>shipping_address</th><td>Triple Ash Nursery 75A Lockgate Road Sidlesham Common West Sussex PO20 7QQ</td></tr><tr><th>billing_address</th><td>Triple Ash Nursery 75A Lockgate Road Sidlesham Common West Sussex PO20 7QQ</td></tr><tr><th>customer_company_registrations</th><td><table border=\"1\"><tr><th>vat_number</th><td>700088278</td></tr></table></td></tr><tr><th>customer_name</th><td>Berry Farming Ltd</td></tr><tr><th>supplier_address</th><td>Beech Gate Peterborough Road Whittlesey Cambridgeshire PE7 1FB</td></tr></table>"
      ],
      "text/plain": [
       "<IPython.core.display.HTML object>"
      ]
     },
     "metadata": {},
     "output_type": "display_data"
    }
   ],
   "source": [
    "import re, json\n",
    "def extract(response_text):\n",
    "    '''Extracts JSON data from model response.'''\n",
    "    match = re.search(r\"\\{.*\\}\", response_text, re.DOTALL)\n",
    "    if match:\n",
    "        extracted_data = json.loads(match.group(0))\n",
    "        return extracted_data\n",
    "    raise ValueError(\"No valid JSON found in response\")\n",
    "\n",
    "result = extract(output_text[0])\n",
    "\n",
    "from IPython.display import display, HTML\n",
    "from json2html import json2html\n",
    "\n",
    "html_response = json2html.convert(json=result)\n",
    "display(HTML(html_response))"
   ]
  },
  {
   "cell_type": "code",
   "execution_count": 18,
   "metadata": {},
   "outputs": [
    {
     "name": "stdout",
     "output_type": "stream",
     "text": [
      "JSON saved at: C:\\Users\\ai.users\\imscanCS\\invoice_outputs\\Qwen2.5-VL-7B-Instruct\\PerfectMatch.json\n"
     ]
    }
   ],
   "source": [
    "from config.settings import ROOT_DIR\n",
    "import os\n",
    "output_folder = ROOT_DIR / 'invoice_outputs'/ model_name.split('/')[-1]\n",
    "output_folder.mkdir(exist_ok=True)\n",
    "file_name = str(file_path).split('/')[-1][:-4]\n",
    "import json\n",
    "# Define full file path\n",
    "json_file_path = output_folder / f\"{file_name}.json\"\n",
    "\n",
    "# Save JSON file\n",
    "with open(json_file_path, \"w\", encoding=\"utf-8\") as json_file:\n",
    "    json.dump(result, json_file, indent=4)\n",
    "\n",
    "print(f\"JSON saved at: {json_file_path}\")"
   ]
  },
  {
   "cell_type": "code",
   "execution_count": null,
   "metadata": {},
   "outputs": [],
   "source": []
  }
 ],
 "metadata": {
  "kernelspec": {
   "display_name": "imscanCS",
   "language": "python",
   "name": "python3"
  },
  "language_info": {
   "codemirror_mode": {
    "name": "ipython",
    "version": 3
   },
   "file_extension": ".py",
   "mimetype": "text/x-python",
   "name": "python",
   "nbconvert_exporter": "python",
   "pygments_lexer": "ipython3",
   "version": "3.13.2"
  }
 },
 "nbformat": 4,
 "nbformat_minor": 2
}
