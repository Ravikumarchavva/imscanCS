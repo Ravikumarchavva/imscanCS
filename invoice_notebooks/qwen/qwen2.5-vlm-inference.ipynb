{
 "cells": [
  {
   "cell_type": "code",
   "execution_count": 1,
   "metadata": {},
   "outputs": [
    {
     "data": {
      "text/plain": [
       "['invoice.pdf',\n",
       " 'ISS.pdf',\n",
       " 'NEWFO-INV-7478.pdf',\n",
       " 'output',\n",
       " 'PerfectMatch.pdf',\n",
       " 'PO139090 GP.pdf',\n",
       " 'SKonica Sit23112709230.pdf',\n",
       " 'skonica3-4.pdf']"
      ]
     },
     "execution_count": 1,
     "metadata": {},
     "output_type": "execute_result"
    }
   ],
   "source": [
    "from config.settings import SRC_DIR, DATA_DIR\n",
    "import os\n",
    "# Define file path for the directory containing PDFs\n",
    "file_dir = DATA_DIR / 'invoices' / 'valid_invoices'\n",
    "files = os.listdir(file_dir)\n",
    "\n",
    "files"
   ]
  },
  {
   "cell_type": "code",
   "execution_count": 2,
   "metadata": {},
   "outputs": [],
   "source": [
    "file_path = file_dir/files[-1]\n",
    "output_path = \"C:/Users/ai.users/imscanCS/data/invoices/valid_invoices/output\"\n",
    "import fitz  # pymupdf\n",
    "\n",
    "doc = fitz.open(str(file_path))\n",
    "for i, page in enumerate(doc):\n",
    "    pix = page.get_pixmap()\n",
    "    pix.save(f\"{output_path}/page_{i}.png\") "
   ]
  },
  {
   "cell_type": "code",
   "execution_count": 3,
   "metadata": {},
   "outputs": [
    {
     "data": {
      "application/vnd.jupyter.widget-view+json": {
       "model_id": "47521cd2f4204556895669036c4c2a88",
       "version_major": 2,
       "version_minor": 0
      },
      "text/plain": [
       "Loading checkpoint shards:   0%|          | 0/5 [00:00<?, ?it/s]"
      ]
     },
     "metadata": {},
     "output_type": "display_data"
    }
   ],
   "source": [
    "from transformers import Qwen2_5_VLForConditionalGeneration, AutoProcessor\n",
    "from qwen_vl_utils import process_vision_info\n",
    "from transformers import BitsAndBytesConfig\n",
    "\n",
    "# Define the model name\n",
    "model_name = \"Qwen/Qwen2.5-VL-7B-Instruct\"\n",
    "\n",
    "# Configure 8-bit loading\n",
    "quantization_config = BitsAndBytesConfig(load_in_8bit=True)\n",
    "\n",
    "# Load the model with 8-bit precision\n",
    "model = Qwen2_5_VLForConditionalGeneration.from_pretrained(\n",
    "    model_name,\n",
    "    quantization_config=quantization_config,\n",
    "    device_map=\"cuda\"  # Automatically assigns layers to available devices\n",
    ")\n",
    "\n",
    "# Load the processor\n",
    "processor = AutoProcessor.from_pretrained(model_name)"
   ]
  },
  {
   "cell_type": "code",
   "execution_count": 4,
   "metadata": {},
   "outputs": [
    {
     "name": "stdout",
     "output_type": "stream",
     "text": [
      "['```json\\n{\\n    \"line_items\": [\\n        {\\n            \"product_code\": \"8501025580\",\\n            \"description\": \"FRA CAR 18X250 GEN VD DES K62H40 NG PAP\",\\n            \"quantity\": \"327,00\",\\n            \"price_per_unit\": \"5,886,00\",\\n            \"vat_percent\": \"0,00 %\",\\n            \"total_price\": \"1,471,50\"\\n        },\\n        {\\n            \"product_code\": \"8501025581\",\\n            \"description\": \"FRA CAR 18X250 GEN VD DES K62H40 NG PAP\",\\n            \"quantity\": \"130,00\",\\n            \"price_per_unit\": \"2,340,00\",\\n            \"vat_percent\": \"0,00 %\",\\n            \"total_price\": \"0,585,00\"\\n        },\\n        {\\n            \"product_code\": \"8501025585\",\\n            \"description\": \"FRA CAR 18X250 GEN VD DES K62H40 NG PAP\",\\n            \"quantity\": \"170,00\",\\n            \"price_per_unit\": \"3,095,00\",\\n            \"vat_percent\": \"0,00 %\",\\n            \"total_price\": \"0,765,00\"\\n        },\\n        {\\n            \"product_code\": \"8501025611\",\\n            \"description\": \"FRA CAR 18X250 GEN VD DES K62H40 NG PAP\",\\n            \"quantity\": \"198,00\",\\n            \"price_per_unit\": \"3,564,00\",\\n            \"vat_percent\": \"0,00 %\",\\n            \"total_price\": \"0,691,00\"\\n        },\\n        {\\n            \"product_code\": \"8501025625\",\\n            \"description\": \"FRA CAR 18X250 GEN VD DES K62H40 NG PAP\",\\n            \"quantity\": \"425,00\",\\n            \"price_per_unit\": \"7,650,00\",\\n            \"vat_percent\": \"0,00 %\",\\n            \"total_price\": \"0,1,912,50\"\\n        },\\n        {\\n            \"product_code\": \"8501025651\",\\n            \"description\": \"FRA CAR 18X250 GEN VD DES K62H40 NG PAP\",\\n            \"quantity\": \"397,00\",\\n            \"price_per_unit\": \"7,146,00\",\\n            \"vat_percent\": \"0,00 %\",\\n            \"total_price\": \"0,1,786,50\"\\n        },\\n        {\\n            \"product_code\": \"8501025626\",\\n            \"description\": \"FRA CAR 18X250 GEN VD DES K62H40 NG PAP\",\\n            \"quantity\": \"68,00\",\\n            \"price_per_unit\": \"1,324,00\",\\n            \"vat_percent\": \"0,00 %\",\\n            \"total_price\": \"0,3,825,00\"\\n        },\\n        {\\n            \"product_code\": \"8501025627\",\\n            \"description\": \"FRA CAR 18X250 GEN VD DES K62H40 NG PAP\",\\n            \"quantity\": \"340,00\",\\n            \"price_per_unit\": \"6,120,00\",\\n            \"vat_percent\": \"0,00 %\",\\n            \"total_price\": \"0,1,530,00\"\\n        },\\n        {\\n            \"product_code\": \"8501025628\",\\n            \"description\": \"FRA CAR 18X250 GEN VD DES K62H40 NG PAP\",\\n            \"quantity\": \"340,00\",\\n            \"price_per_unit\": \"6,120,00\",\\n            \"vat_percent\": \"0,00 %\",\\n            \"total_price\": \"0,1,530,00\"\\n        },\\n        {\\n            \"product_code\": \"8501025629\",\\n            \"description\": \"FRA CAR 18X250 GEN VD DES K62H40 NG PAP\",\\n            \"quantity\": \"255,00\",\\n            \"price_per_unit\": \"4,950,00\",\\n            \"vat_percent\": \"0,00 %\",\\n            \"total_price\": \"0,1,1,474,50\"\\n        },\\n        {\\n            \"product_code\": \"8501025650\",\\n            \"description\": \"FRA CAR 18X250 GEN VD DES K62H40 NG PAP\",\\n            \"quantity\": \"85,00\",\\n            \"price_per_unit\": \"1,530,00\",\\n            \"vat_percent\": \"0,00 %\",\\n            \"total_price\": \"0,382,50\"\\n        },\\n        {\\n            \"product_code\": \"8501025632\",\\n            \"description\": \"FRA CAR 18X250 GEN VD DES K62H40 NG PAP\",\\n            \"quantity\": \"218,00\",\\n            \"price_per_unit\": \"3,524,00\",\\n            \"vat_percent\": \"0,00 %\",\\n            \"total_price\": \"0,961,00\"\\n        },\\n        {\\n            \"product_code\": \"8501025655\",\\n            \"description\": \"FRA CAR 18X250 GEN VD DES K62H40 NG PAP\",\\n            \"quantity\": \"425,00\",\\n            \"price_per_unit\": \"7,650,00\",\\n            \"vat_percent\": \"0,00 %\",\\n            \"total_price\": \"0,1,912,50\"\\n        },\\n        {\\n            \"product_code\": \"8501025685\",\\n            \"description\": \"FRA CAR 18X250 GEN VD DES K62H40 NG PAP\",\\n            \"quantity\": \"355,00\",\\n            \"price_per_unit\": \"4,950,00\",\\n            \"vat_percent\": \"0,00 %\",\\n            \"total_price\": \"0,1,743,75\"\\n        },\\n        {\\n            \"product_code\": \"8501025686\",\\n            \"description\": \"FRA CAR 18X250 GEN VD DES K62H40 NG PAP\",\\n            \"quantity\": \"595,00\",\\n            \"price_per_unit\": \"10,710,00\",\\n            \"vat_percent\": \"0,00 %\",\\n            \"total_price\": \"0,2,677,50\"\\n        },\\n        {\\n            \"product_code\": \"8501025633\",\\n            \"description\": \"FRA CAR 18X250 GEN VD DES K62H40 NG PAP\",\\n            \"quantity\": \"170,00\",\\n            \"price_per_unit\": \"3,095,00\",\\n            \"vat_percent\": \"0,00 %\",\\n            \"total_price\": \"0,5,652,50\"\\n        }\\n    ],\\n    \"remaining_details\": {\\n        \"invoice_number\": \"500019353\",\\n        \"invoice_date\": \"2023-09-11\",\\n        \"payment_date\": null,\\n        \"due_date\": \"2023-09-12\",\\n        \"total_items\": 14,\\n        \"total_tax\": \"223,481,25\",\\n        \"tax_rate\": \"0,00 %\",\\n        \"supplier_name\": \"Surexport UK LTD\",\\n        \"supplier_address\": \"Great Queen Street 16 WC2B 5AH London\",\\n        \"supplier_vat_number\": \"GB328693957\",\\n        \"customer_name\": \"ORPLTD\",\\n        \"customer_address\": \"57-63 CHURCH ROAD SW19 5SB WIMBLEDON United Kingdom\",\\n        \"customer_company_vat_number\": \"GB125476511\",\\n        \"iban\": \"GB68EBUP23122876893326\",\\n        \"swift\": \"EBURGBA1XXX\",\\n        \"bic\": \"EBURGBA1XXX\",\\n        \"account_number\": \"12042810\",\\n        \"purchase_order\": \"PO 141800-141801-141802-141803-141804-141805-141799-141966-141974-1420210-141929-142029-142198-142200\",\\n        \"reference_numbers\": \"141800 A, 141805 A, 141804 M(F), 141804 A(MF), 141804 B, 141800 A(141804 A), 141805 (141805 A), 141804 (141804 M), 141804 (141804 B)\",\\n        \"country\": \"United Kingdom\",\\n        \"currency\": \"EUR\"\\n    }\\n}\\n```']\n"
     ]
    }
   ],
   "source": [
    "from config.invoice_config import get_qwen_prompt\n",
    "# Messages containing multiple images and a text query\n",
    "image_path_0 = 'C:/Users/ai.users/imscanCS/data/invoices/valid_invoices/output/page_0.png'\n",
    "image_path_1 = 'C:/Users/ai.users/imscanCS/data/invoices/valid_invoices/output/page_1.png'\n",
    "messages = [\n",
    "    {\n",
    "        \"role\": \"user\",\n",
    "        \"content\": [\n",
    "            {\"type\": \"image\", \"image\": image_path_0},\n",
    "            {\"type\": \"image\", \"image\": image_path_1},\n",
    "            # {\"type\": \"image\", \"image\": \"file:///path/to/image2.jpg\"},\n",
    "            {\"type\": \"text\", \"text\": get_qwen_prompt()},\n",
    "        ],\n",
    "    }\n",
    "]\n",
    "\n",
    "# Preparation for inference\n",
    "text = processor.apply_chat_template(\n",
    "    messages, tokenize=False, add_generation_prompt=True\n",
    ")\n",
    "image_inputs, video_inputs = process_vision_info(messages)\n",
    "inputs = processor(\n",
    "    text=[text],\n",
    "    images=image_inputs,\n",
    "    videos=video_inputs,\n",
    "    padding=True,\n",
    "    return_tensors=\"pt\",\n",
    ")\n",
    "inputs = inputs.to(\"cuda\")\n",
    "\n",
    "# Inference\n",
    "generated_ids = model.generate(**inputs, max_new_tokens=4000)\n",
    "generated_ids_trimmed = [\n",
    "    out_ids[len(in_ids) :] for in_ids, out_ids in zip(inputs.input_ids, generated_ids)\n",
    "]\n",
    "output_text = processor.batch_decode(\n",
    "    generated_ids_trimmed, skip_special_tokens=True, clean_up_tokenization_spaces=False\n",
    ")\n",
    "print(output_text)"
   ]
  },
  {
   "cell_type": "code",
   "execution_count": 5,
   "metadata": {},
   "outputs": [
    {
     "data": {
      "text/html": [
       "<table border=\"1\"><tr><th>line_items</th><td><table border=\"1\"><thead><tr><th>product_code</th><th>description</th><th>quantity</th><th>price_per_unit</th><th>vat_percent</th><th>total_price</th></tr></thead><tbody><tr><td>8501025580</td><td>FRA CAR 18X250 GEN VD DES K62H40 NG PAP</td><td>327,00</td><td>5,886,00</td><td>0,00 %</td><td>1,471,50</td></tr><tr><td>8501025581</td><td>FRA CAR 18X250 GEN VD DES K62H40 NG PAP</td><td>130,00</td><td>2,340,00</td><td>0,00 %</td><td>0,585,00</td></tr><tr><td>8501025585</td><td>FRA CAR 18X250 GEN VD DES K62H40 NG PAP</td><td>170,00</td><td>3,095,00</td><td>0,00 %</td><td>0,765,00</td></tr><tr><td>8501025611</td><td>FRA CAR 18X250 GEN VD DES K62H40 NG PAP</td><td>198,00</td><td>3,564,00</td><td>0,00 %</td><td>0,691,00</td></tr><tr><td>8501025625</td><td>FRA CAR 18X250 GEN VD DES K62H40 NG PAP</td><td>425,00</td><td>7,650,00</td><td>0,00 %</td><td>0,1,912,50</td></tr><tr><td>8501025651</td><td>FRA CAR 18X250 GEN VD DES K62H40 NG PAP</td><td>397,00</td><td>7,146,00</td><td>0,00 %</td><td>0,1,786,50</td></tr><tr><td>8501025626</td><td>FRA CAR 18X250 GEN VD DES K62H40 NG PAP</td><td>68,00</td><td>1,324,00</td><td>0,00 %</td><td>0,3,825,00</td></tr><tr><td>8501025627</td><td>FRA CAR 18X250 GEN VD DES K62H40 NG PAP</td><td>340,00</td><td>6,120,00</td><td>0,00 %</td><td>0,1,530,00</td></tr><tr><td>8501025628</td><td>FRA CAR 18X250 GEN VD DES K62H40 NG PAP</td><td>340,00</td><td>6,120,00</td><td>0,00 %</td><td>0,1,530,00</td></tr><tr><td>8501025629</td><td>FRA CAR 18X250 GEN VD DES K62H40 NG PAP</td><td>255,00</td><td>4,950,00</td><td>0,00 %</td><td>0,1,1,474,50</td></tr><tr><td>8501025650</td><td>FRA CAR 18X250 GEN VD DES K62H40 NG PAP</td><td>85,00</td><td>1,530,00</td><td>0,00 %</td><td>0,382,50</td></tr><tr><td>8501025632</td><td>FRA CAR 18X250 GEN VD DES K62H40 NG PAP</td><td>218,00</td><td>3,524,00</td><td>0,00 %</td><td>0,961,00</td></tr><tr><td>8501025655</td><td>FRA CAR 18X250 GEN VD DES K62H40 NG PAP</td><td>425,00</td><td>7,650,00</td><td>0,00 %</td><td>0,1,912,50</td></tr><tr><td>8501025685</td><td>FRA CAR 18X250 GEN VD DES K62H40 NG PAP</td><td>355,00</td><td>4,950,00</td><td>0,00 %</td><td>0,1,743,75</td></tr><tr><td>8501025686</td><td>FRA CAR 18X250 GEN VD DES K62H40 NG PAP</td><td>595,00</td><td>10,710,00</td><td>0,00 %</td><td>0,2,677,50</td></tr><tr><td>8501025633</td><td>FRA CAR 18X250 GEN VD DES K62H40 NG PAP</td><td>170,00</td><td>3,095,00</td><td>0,00 %</td><td>0,5,652,50</td></tr></tbody></table></td></tr><tr><th>remaining_details</th><td><table border=\"1\"><tr><th>invoice_number</th><td>500019353</td></tr><tr><th>invoice_date</th><td>2023-09-11</td></tr><tr><th>payment_date</th><td>None</td></tr><tr><th>due_date</th><td>2023-09-12</td></tr><tr><th>total_items</th><td>14</td></tr><tr><th>total_tax</th><td>223,481,25</td></tr><tr><th>tax_rate</th><td>0,00 %</td></tr><tr><th>supplier_name</th><td>Surexport UK LTD</td></tr><tr><th>supplier_address</th><td>Great Queen Street 16 WC2B 5AH London</td></tr><tr><th>supplier_vat_number</th><td>GB328693957</td></tr><tr><th>customer_name</th><td>ORPLTD</td></tr><tr><th>customer_address</th><td>57-63 CHURCH ROAD SW19 5SB WIMBLEDON United Kingdom</td></tr><tr><th>customer_company_vat_number</th><td>GB125476511</td></tr><tr><th>iban</th><td>GB68EBUP23122876893326</td></tr><tr><th>swift</th><td>EBURGBA1XXX</td></tr><tr><th>bic</th><td>EBURGBA1XXX</td></tr><tr><th>account_number</th><td>12042810</td></tr><tr><th>purchase_order</th><td>PO 141800-141801-141802-141803-141804-141805-141799-141966-141974-1420210-141929-142029-142198-142200</td></tr><tr><th>reference_numbers</th><td>141800 A, 141805 A, 141804 M(F), 141804 A(MF), 141804 B, 141800 A(141804 A), 141805 (141805 A), 141804 (141804 M), 141804 (141804 B)</td></tr><tr><th>country</th><td>United Kingdom</td></tr><tr><th>currency</th><td>EUR</td></tr></table></td></tr></table>"
      ],
      "text/plain": [
       "<IPython.core.display.HTML object>"
      ]
     },
     "metadata": {},
     "output_type": "display_data"
    }
   ],
   "source": [
    "import re, json\n",
    "def extract(response_text):\n",
    "    '''Extracts JSON data from model response.'''\n",
    "    match = re.search(r\"\\{.*\\}\", response_text, re.DOTALL)\n",
    "    if match:\n",
    "        extracted_data = json.loads(match.group(0))\n",
    "        return extracted_data\n",
    "    raise ValueError(\"No valid JSON found in response\")\n",
    "\n",
    "result = extract(output_text[0])\n",
    "\n",
    "from IPython.display import display, HTML\n",
    "from json2html import json2html\n",
    "\n",
    "html_response = json2html.convert(json=result)\n",
    "display(HTML(html_response))"
   ]
  },
  {
   "cell_type": "code",
   "execution_count": 18,
   "metadata": {},
   "outputs": [
    {
     "name": "stdout",
     "output_type": "stream",
     "text": [
      "JSON saved at: C:\\Users\\ai.users\\imscanCS\\invoice_outputs\\Qwen2.5-VL-7B-Instruct\\PerfectMatch.json\n"
     ]
    }
   ],
   "source": [
    "from config.settings import ROOT_DIR\n",
    "import os\n",
    "output_folder = ROOT_DIR / 'invoice_outputs'/ model_name.split('/')[-1]\n",
    "output_folder.mkdir(exist_ok=True)\n",
    "file_name = str(file_path).split('/')[-1][:-4]\n",
    "import json\n",
    "# Define full file path\n",
    "json_file_path = output_folder / f\"{file_name}.json\"\n",
    "\n",
    "# Save JSON file\n",
    "with open(json_file_path, \"w\", encoding=\"utf-8\") as json_file:\n",
    "    json.dump(result, json_file, indent=4)\n",
    "\n",
    "print(f\"JSON saved at: {json_file_path}\")"
   ]
  },
  {
   "cell_type": "code",
   "execution_count": null,
   "metadata": {},
   "outputs": [],
   "source": []
  }
 ],
 "metadata": {
  "kernelspec": {
   "display_name": "imscanCS",
   "language": "python",
   "name": "python3"
  },
  "language_info": {
   "codemirror_mode": {
    "name": "ipython",
    "version": 3
   },
   "file_extension": ".py",
   "mimetype": "text/x-python",
   "name": "python",
   "nbconvert_exporter": "python",
   "pygments_lexer": "ipython3",
   "version": "3.13.2"
  }
 },
 "nbformat": 4,
 "nbformat_minor": 2
}
