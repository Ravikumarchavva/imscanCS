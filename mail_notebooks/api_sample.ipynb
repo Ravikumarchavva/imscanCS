{
 "cells": [
  {
   "cell_type": "code",
   "execution_count": 1,
   "metadata": {},
   "outputs": [],
   "source": [
    "import os\n",
    "import email\n",
    "from email import policy\n",
    "from pathlib import Path\n",
    "\n",
    "\n",
    "def extract_email_details(mail_path: Path, attachments_folder: Path) -> dict:\n",
    "    # Read the .eml file\n",
    "    with open(mail_path, \"rb\") as f:\n",
    "        msg = email.message_from_binary_file(f, policy=policy.default)\n",
    "    \n",
    "    sender = msg.get('From')\n",
    "    reciver = msg.get('To')\n",
    "    subject = msg.get('Subject')\n",
    "    date = msg.get('Date')\n",
    "    body = msg.get_body(preferencelist=('plain', 'html')).get_content()\n",
    "    attachments = []\n",
    "    \n",
    "    # Extract attachments and save them\n",
    "    for part in msg.iter_attachments():\n",
    "        filename = part.get_filename()\n",
    "        if filename:\n",
    "            attachments.append(filename)\n",
    "            with open(attachments_folder / filename, \"wb\") as f:\n",
    "                f.write(part.get_payload(decode=True))\n",
    "    \n",
    "    return {\n",
    "        \"Sender\": sender,\n",
    "        \"Reciver\": reciver,\n",
    "        \"Subject\": subject,\n",
    "        \"Date\": date,\n",
    "        \"Body\": body,\n",
    "        \"Attachments\": attachments\n",
    "    }"
   ]
  },
  {
   "cell_type": "code",
   "execution_count": 39,
   "metadata": {},
   "outputs": [
    {
     "name": "stdout",
     "output_type": "stream",
     "text": [
      "<https://gbr01.safelinks.protection.outlook.com/?url=https%3A%2F%2Furl.uk.m.mimecastprotect.com%2Fs%2FHtj4CBP78t70q7Liz1XTh%3Fdomain%3Dlidl.co.uk&data=05%7C02%7CKegan.Stubbs%40fpp-ltd.com%7C3f5853b583c449db64c308dc920a5fb4%7C0a6ac99f713640dd9ec3ddedf46edbc9%7C0%7C0%7C638545820449983012%7CUnknown%7CTWFpbGZsb3d8eyJWIjoiMC4wLjAwMDAiLCJQIjoiV2luMzIiLCJBTiI6Ik1haWwiLCJXVCI6Mn0%3D%7C0%7C%7C%7C&sdata=W13OnPiBNQpPxm1G3%2BAQ3XBQVSuqBjaOkhN7rqvCt7I%3D&reserved=0>\n",
      "21 June 2024\n",
      "\n",
      "Our Ref: 103927724\n",
      "Dear Sir or Madam\n",
      "\n",
      "\n",
      "\n",
      "Please be aware we have received a customer complaint regarding a product you supply - see the details below.\n",
      "\n",
      "Please note, this is for your information only and no action is required at this time. However, it is still your responsibility to trend your own complaints.\n",
      "\n",
      "\n",
      "If you believe this to be a wider issue and not an isolated incident, we request you immediately inform us by contacting the qualityassurance@lidl.co.uk<https://gbr01.safelinks.protection.outlook.com/?url=https%3A%2F%2Furl.uk.m.mimecastprotect.com%2Fs%2FuzEZCDQ7YT5wp58t5Lqke%3Fdomain%3Dlidl.co.uk&data=05%7C02%7CKegan.Stubbs%40fpp-ltd.com%7C3f5853b583c449db64c308dc920a5fb4%7C0a6ac99f713640dd9ec3ddedf46edbc9%7C0%7C0%7C638545820449995633%7CUnknown%7CTWFpbGZsb3d8eyJWIjoiMC4wLjAwMDAiLCJQIjoiV2luMzIiLCJBTiI6Ik1haWwiLCJXVCI6Mn0%3D%7C0%7C%7C%7C&sdata=si5SGWB2krnIR57Yx5EhGsYKgVGx6V6elHKsG%2BCoUk8%3D&reserved=0> address. If we don’t receive a notification at the above address, we will assume there are no issues regarding product safety or quality.\n",
      "\n",
      "Product information: 0080398 Ready to Eat Peaches Peaches 4-Pk\n",
      "Type of complaint: 3.1.2 Sensory Issue\n",
      "Details: //20.06.2024\n",
      "Customer had a problem with Lidl's Peaches, which were mouldy. Agent was able to solve the problem by sending a voucher for £7.39.\n",
      "BBD/UBD:\n",
      "Batch code: L230643 W3237\n",
      "Reason for complaint: Mould\n",
      "Article Number: 0080398\n",
      "Product Family: 10.40\n",
      "Date of Purchase: 20/06/2024\n",
      "Store: GB1526\n",
      "RDC: LUTON RDC\n",
      "\n",
      "\n",
      "\n",
      "Yours sincerely,\n",
      "For and on behalf of Lidl Great Britain Limited\n",
      "\n",
      "\n",
      "Hayley Coven\n",
      "\n",
      "customer.quality@lidl.co.uk\n",
      "Quality Assurance Team\n",
      " <http://f.chtah.com/i/16/2099070104/2018_09_Lidl_Newsletter_01.gif>\n",
      "- - - - - - - - - - - - - - - - - - - - - - - - - - - - - - - - -\n",
      "\n",
      "ref:00D58000000K3E6.5006N00000w4FOX:ref\n",
      "\n",
      "\n"
     ]
    }
   ],
   "source": [
    "# Example usage\n",
    "from config.settings import DATA_DIR\n",
    "mails_dir = DATA_DIR / 'mails'\n",
    "mail_path = mails_dir / os.listdir(mails_dir)[4]\n",
    "mail_name = mail_path.name.split('.')[0]\n",
    "\n",
    "attachments_folder = Path.cwd() / 'attachments' / mail_name\n",
    "\n",
    "# Ensure the parent exist\n",
    "attachments_folder.mkdir(exist_ok=True)\n",
    "\n",
    "email_details = extract_email_details(mail_path, attachments_folder)\n",
    "print(email_details['Body'])"
   ]
  },
  {
   "cell_type": "code",
   "execution_count": 13,
   "metadata": {},
   "outputs": [],
   "source": [
    "def get_prompt(text):\n",
    "    prompt = \"\"\"\n",
    "    You are a **product quality notification data extractor**. Your task is to extract structured rejection details from the provided text and return **only the JSON output** in the following format:\n",
    "\n",
    "    {\n",
    "        \"ID\": \"integer\",\n",
    "        \"NotificationType\": \"string\",\n",
    "        \"DateTime\": \"YYYY-MM-DD HH:MM:SS\",\n",
    "        \"Location\": \"string\",\n",
    "        \"Category\": \"string\",\n",
    "        \"Product\": \"string\",\n",
    "        \"FocusProduct\": \"string\",\n",
    "        \"Supplier\": \"string\",\n",
    "        \"Traceability\": \"string\",\n",
    "        \"DateCode\": \"string\",\n",
    "        \"DeliverySize\": \"string\",\n",
    "        \"CasesSampled\": \"integer\",\n",
    "        \"CasesRejected\": \"integer\",\n",
    "        \"UnitsRejected\": \"integer\",\n",
    "        \"RejectionLevel\": \"string\",\n",
    "        \"Details\": \"string\",\n",
    "        \"ActionTaken\": \"string\",\n",
    "        \"ContactsInformed\": \"string\"\n",
    "    }\n",
    "\n",
    "    **Strict Output Rules:**\n",
    "    - **Only return the data in JSON format.**\n",
    "    - **Do not include any explanation, additional text, or non-JSON output.**\n",
    "    - Ensure all dates follow the format `YYYY-MM-DD HH:MM:SS`.\n",
    "    - If any value is missing, set it to `null`. Do not infer missing details or hallucinate.\n",
    "    - **Strictly follow the data types and format specified.**\n",
    "    - If there are any links, such as images or external references, exclude them from the output.\n",
    "\n",
    "    ### Rejection Data Text:\n",
    "    \"\"\" + text\n",
    "\n",
    "    return prompt"
   ]
  },
  {
   "cell_type": "code",
   "execution_count": 4,
   "metadata": {},
   "outputs": [
    {
     "data": {
      "application/vnd.jupyter.widget-view+json": {
       "model_id": "87d499064c3d479e83b3a56330cbfef5",
       "version_major": 2,
       "version_minor": 0
      },
      "text/plain": [
       "Loading checkpoint shards:   0%|          | 0/8 [00:00<?, ?it/s]"
      ]
     },
     "metadata": {},
     "output_type": "display_data"
    }
   ],
   "source": [
    "import torch\n",
    "from transformers import AutoModelForCausalLM, AutoTokenizer, BitsAndBytesConfig\n",
    "\n",
    "# Load the model with 4-bit quantization\n",
    "def load_model(model_name=\"Qwen/Qwen2.5-14B-Instruct-1M\"):\n",
    "    bnb_config = BitsAndBytesConfig(\n",
    "        load_in_4bit=True,  # Enable 4-bit quantization\n",
    "        bnb_4bit_compute_dtype=torch.bfloat16  # Use bfloat16 for computation\n",
    "    )\n",
    "\n",
    "    model = AutoModelForCausalLM.from_pretrained(\n",
    "        model_name,\n",
    "        device_map=\"cuda\",  # Automatically map to available devices\n",
    "        quantization_config=bnb_config\n",
    "    )\n",
    "\n",
    "    tokenizer = AutoTokenizer.from_pretrained(model_name, use_fast=True)\n",
    "\n",
    "    return model, tokenizer\n",
    "\n",
    "# Load model and tokenizer with 4-bit quantization\n",
    "model, tokenizer = load_model()"
   ]
  },
  {
   "cell_type": "code",
   "execution_count": 31,
   "metadata": {},
   "outputs": [],
   "source": [
    "prompt = get_prompt(email_details['Body'])\n",
    "messages = [\n",
    "    {\"role\": \"system\", \"content\": \"You are email checker.\"},\n",
    "    {\"role\": \"user\", \"content\": prompt}\n",
    "]\n",
    "text = tokenizer.apply_chat_template(\n",
    "    messages,\n",
    "    tokenize=False,\n",
    "    add_generation_prompt=True\n",
    ")\n",
    "model_inputs = tokenizer([text], return_tensors=\"pt\").to(model.device)\n",
    "\n",
    "generated_ids = model.generate(\n",
    "    **model_inputs,\n",
    "    max_new_tokens=2000\n",
    ")\n",
    "generated_ids = [\n",
    "    output_ids[len(input_ids):] for input_ids, output_ids in zip(model_inputs.input_ids, generated_ids)\n",
    "]\n",
    "\n",
    "response = tokenizer.batch_decode(generated_ids)[0]"
   ]
  },
  {
   "cell_type": "code",
   "execution_count": 32,
   "metadata": {},
   "outputs": [
    {
     "name": "stdout",
     "output_type": "stream",
     "text": [
      "```json\n",
      "{\n",
      "    \"ID\": 111,\n",
      "    \"NotificationType\": \"Warning\",\n",
      "    \"DateTime\": \"2024-08-27 06:57:00\",\n",
      "    \"Location\": \"Erith CFC (Kent, DA8 1DE)\",\n",
      "    \"Category\": \"TOMATOES\",\n",
      "    \"Product\": \"629903011: Ocado Organic Tomatoes on the Vine\",\n",
      "    \"FocusProduct\": null,\n",
      "    \"Supplier\": \"ETHICAL FOOD COMPANY LTD\",\n",
      "    \"Traceability\": \"Date Code: 2024-09-03\",\n",
      "    \"DateCode\": \"2024-09-03\",\n",
      "    \"DeliverySize\": \"10 x 16\",\n",
      "    \"CasesSampled\": 3,\n",
      "    \"CasesRejected\": null,\n",
      "    \"UnitsRejected\": null,\n",
      "    \"RejectionLevel\": \"None\",\n",
      "    \"Details\": \"1x Rot- Progressive defect not acceptable to customers. No QAS available.\",\n",
      "    \"ActionTaken\": null,\n",
      "    \"ContactsInformed\": null\n",
      "}\n",
      "```<|im_end|>\n"
     ]
    }
   ],
   "source": [
    "print(response)"
   ]
  },
  {
   "cell_type": "code",
   "execution_count": 33,
   "metadata": {},
   "outputs": [
    {
     "name": "stdout",
     "output_type": "stream",
     "text": [
      "Parsed JSON:\n",
      "{'ID': 111, 'NotificationType': 'Warning', 'DateTime': '2024-08-27 06:57:00', 'Location': 'Erith CFC (Kent, DA8 1DE)', 'Category': 'TOMATOES', 'Product': '629903011: Ocado Organic Tomatoes on the Vine', 'FocusProduct': None, 'Supplier': 'ETHICAL FOOD COMPANY LTD', 'Traceability': 'Date Code: 2024-09-03', 'DateCode': '2024-09-03', 'DeliverySize': '10 x 16', 'CasesSampled': 3, 'CasesRejected': None, 'UnitsRejected': None, 'RejectionLevel': 'None', 'Details': '1x Rot- Progressive defect not acceptable to customers. No QAS available.', 'ActionTaken': None, 'ContactsInformed': None}\n"
     ]
    }
   ],
   "source": [
    "import re, json\n",
    "# Extract JSON using regex\n",
    "match = re.search(r\"\\{.*\\}\", response, re.DOTALL)\n",
    "if match:\n",
    "    json_str = match.group(0).strip()\n",
    "    try:\n",
    "        data = json.loads(json_str)\n",
    "        print(\"Parsed JSON:\")\n",
    "        print(data)\n",
    "    except json.JSONDecodeError as e:\n",
    "        print(\"JSON decoding error:\", e)\n",
    "else:\n",
    "    print(\"No JSON found in the response\")"
   ]
  },
  {
   "cell_type": "code",
   "execution_count": 34,
   "metadata": {},
   "outputs": [
    {
     "data": {
      "text/html": [
       "<table border=\"1\"><tr><th>ID</th><td>111</td></tr><tr><th>NotificationType</th><td>Warning</td></tr><tr><th>DateTime</th><td>2024-08-27 06:57:00</td></tr><tr><th>Location</th><td>Erith CFC (Kent, DA8 1DE)</td></tr><tr><th>Category</th><td>TOMATOES</td></tr><tr><th>Product</th><td>629903011: Ocado Organic Tomatoes on the Vine</td></tr><tr><th>FocusProduct</th><td>None</td></tr><tr><th>Supplier</th><td>ETHICAL FOOD COMPANY LTD</td></tr><tr><th>Traceability</th><td>Date Code: 2024-09-03</td></tr><tr><th>DateCode</th><td>2024-09-03</td></tr><tr><th>DeliverySize</th><td>10 x 16</td></tr><tr><th>CasesSampled</th><td>3</td></tr><tr><th>CasesRejected</th><td>None</td></tr><tr><th>UnitsRejected</th><td>None</td></tr><tr><th>RejectionLevel</th><td>None</td></tr><tr><th>Details</th><td>1x Rot- Progressive defect not acceptable to customers. No QAS available.</td></tr><tr><th>ActionTaken</th><td>None</td></tr><tr><th>ContactsInformed</th><td>None</td></tr></table>"
      ],
      "text/plain": [
       "<IPython.core.display.HTML object>"
      ]
     },
     "metadata": {},
     "output_type": "display_data"
    }
   ],
   "source": [
    "from json2html import json2html\n",
    "from IPython.display import display, HTML\n",
    "\n",
    "# Convert JSON to an HTML table\n",
    "html_table = json2html.convert(json=data)\n",
    "\n",
    "# Display the table\n",
    "display(HTML(html_table))"
   ]
  },
  {
   "cell_type": "code",
   "execution_count": 35,
   "metadata": {},
   "outputs": [
    {
     "name": "stdout",
     "output_type": "stream",
     "text": [
      "JSON saved at: C:\\Users\\ai.users\\imscanCS\\data\\output_mail_dir\\Ocado Quality Notification - Warning.json\n"
     ]
    }
   ],
   "source": [
    "# save json\n",
    "output_mail_dir = DATA_DIR / 'output_mail_dir'\n",
    "output_mail_dir.mkdir(exist_ok=True)\n",
    "\n",
    "import json\n",
    "# Define full file path\n",
    "json_file_path = os.path.join(output_mail_dir, f\"{mail_name}.json\")\n",
    "\n",
    "# Save JSON file\n",
    "with open(json_file_path, \"w\", encoding=\"utf-8\") as json_file:\n",
    "    json.dump(data, json_file, indent=4)\n",
    "\n",
    "print(f\"JSON saved at: {json_file_path}\")"
   ]
  },
  {
   "cell_type": "code",
   "execution_count": null,
   "metadata": {},
   "outputs": [],
   "source": []
  }
 ],
 "metadata": {
  "kernelspec": {
   "display_name": "imscanCS",
   "language": "python",
   "name": "python3"
  },
  "language_info": {
   "codemirror_mode": {
    "name": "ipython",
    "version": 3
   },
   "file_extension": ".py",
   "mimetype": "text/x-python",
   "name": "python",
   "nbconvert_exporter": "python",
   "pygments_lexer": "ipython3",
   "version": "3.13.2"
  }
 },
 "nbformat": 4,
 "nbformat_minor": 2
}
