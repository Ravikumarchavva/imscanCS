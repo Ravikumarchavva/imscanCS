{
 "cells": [
  {
   "cell_type": "code",
   "execution_count": 1,
   "metadata": {},
   "outputs": [],
   "source": [
    "import os\n",
    "import email\n",
    "from email import policy\n",
    "from pathlib import Path\n",
    "\n",
    "\n",
    "def extract_email_details(mail_path: Path, attachments_folder: Path) -> dict:\n",
    "    # Read the .eml file\n",
    "    with open(mail_path, \"rb\") as f:\n",
    "        msg = email.message_from_binary_file(f, policy=policy.default)\n",
    "    \n",
    "    sender = msg.get('From')\n",
    "    reciver = msg.get('To')\n",
    "    subject = msg.get('Subject')\n",
    "    date = msg.get('Date')\n",
    "    body = msg.get_body(preferencelist=('plain', 'html')).get_content()\n",
    "    attachments = []\n",
    "    \n",
    "    # Extract attachments and save them\n",
    "    for part in msg.iter_attachments():\n",
    "        filename = part.get_filename()\n",
    "        if filename:\n",
    "            attachments.append(filename)\n",
    "            with open(attachments_folder / filename, \"wb\") as f:\n",
    "                f.write(part.get_payload(decode=True))\n",
    "    \n",
    "    return {\n",
    "        \"Sender\": sender,\n",
    "        \"Reciver\": reciver,\n",
    "        \"Subject\": subject,\n",
    "        \"Date\": date,\n",
    "        \"Body\": body,\n",
    "        \"Attachments\": attachments\n",
    "    }"
   ]
  },
  {
   "cell_type": "code",
   "execution_count": 66,
   "metadata": {},
   "outputs": [
    {
     "name": "stdout",
     "output_type": "stream",
     "text": [
      "        Some people who received this message don't often get email from quality@food-surveys.com. Learn why this is important<https://aka.ms/LearnAboutSenderIdentification>\n",
      "\n",
      "\n",
      "Dear ETHICAL FOOD COMPANY LTD\n",
      "\n",
      "On behalf of Ocado Retail Limited, please find below the inbound product quality report for a recent delivery into Erith CFC (Kent, DA8 1DE)\n",
      "\n",
      "While the product was found within tolerance, there were a number of issues found resulting in a ‘warning’ result. ORL Product Technical will continue to monitor quality for this SKU and take appropriate action if any trending is observed.\n",
      "\n",
      "Please use this report and the flagged issues as a continuous improvement tool to ensure products are being delivered to the QAS.\n",
      "\n",
      "Ocado Product Quality Notification - Warning\n",
      "\n",
      "ID       111\n",
      "Notification Type        Warning\n",
      "Date / Time      27/08/2024 06:57\n",
      "Inspector        R. Howard\n",
      "Location         Erith CFC (Kent, DA8 1DE)\n",
      "Category         TOMATOES\n",
      "Product SKU      629903011: Ocado Organic Tomatoes on the Vine\n",
      "Focus Product    No\n",
      "Supplier         ETHICAL FOOD COMPANY LTD\n",
      "Traceability     Date Code: 2024-09-03\n",
      "\n",
      "Delivery Size (trays x units)    10 x 16\n",
      "Trays Sampled    3\n",
      "Units OOS (OOS / Sampled)        1/48\n",
      "Unit Compliance Percent  97.9%\n",
      "Units Removed / Destructively Tested     1\n",
      "Details  1x Rot- Progressive defect not acceptable to customers. No QAS available.\n",
      "Outcome  N/A\n",
      "Units Rejected   N/A\n",
      "Rejection Level  None\n",
      "\n",
      "Image Links:\n",
      "\n",
      "*       View Image 1<https://gbr01.safelinks.protection.outlook.com/?url=https%3A%2F%2Furl.uk.m.mimecastprotect.com%2Fs%2FW_cMCPzpMiKG4E8FzfBux7The%3Fdomain%3Dfslreporting.co.uk&data=05%7C02%7Cdorota.kwitowska%40efcltd.com%7Ce6e720bf63ab4387f3e808dcc65ed889%7C0a6ac99f713640dd9ec3ddedf46edbc9%7C0%7C0%7C638603357914191341%7CUnknown%7CTWFpbGZsb3d8eyJWIjoiMC4wLjAwMDAiLCJQIjoiV2luMzIiLCJBTiI6Ik1haWwiLCJXVCI6Mn0%3D%7C0%7C%7C%7C&sdata=zs5N3eFWiOguLbgN%2FuNSyF8fxyqLYWdX%2BfiaOctDpdY%3D&reserved=0>\n",
      "*       View Image 2<https://gbr01.safelinks.protection.outlook.com/?url=https%3A%2F%2Furl.uk.m.mimecastprotect.com%2Fs%2FXbizCQ6qNUkA6jMhPhJuGWyTn%3Fdomain%3Dfslreporting.co.uk&data=05%7C02%7Cdorota.kwitowska%40efcltd.com%7Ce6e720bf63ab4387f3e808dcc65ed889%7C0a6ac99f713640dd9ec3ddedf46edbc9%7C0%7C0%7C638603357914225237%7CUnknown%7CTWFpbGZsb3d8eyJWIjoiMC4wLjAwMDAiLCJQIjoiV2luMzIiLCJBTiI6Ik1haWwiLCJXVCI6Mn0%3D%7C0%7C%7C%7C&sdata=3JsrBtWkh8ApUbtidDKQ6qX%2Bjxeaq6846I4u9dOc6IM%3D&reserved=0>\n",
      "*       View Image 3<https://gbr01.safelinks.protection.outlook.com/?url=https%3A%2F%2Furl.uk.m.mimecastprotect.com%2Fs%2Fruy8CRPrMtvmrqjUPizu1Xmqr%3Fdomain%3Dfslreporting.co.uk&data=05%7C02%7Cdorota.kwitowska%40efcltd.com%7Ce6e720bf63ab4387f3e808dcc65ed889%7C0a6ac99f713640dd9ec3ddedf46edbc9%7C0%7C0%7C638603357914249112%7CUnknown%7CTWFpbGZsb3d8eyJWIjoiMC4wLjAwMDAiLCJQIjoiV2luMzIiLCJBTiI6Ik1haWwiLCJXVCI6Mn0%3D%7C0%7C%7C%7C&sdata=8VYAAJLT%2B0gXdIHNhKpa%2BRGe0xheht%2BP2E%2FoyrqfE94%3D&reserved=0>\n",
      "\n",
      "\n"
     ]
    }
   ],
   "source": [
    "# Example usage\n",
    "from config.settings import DATA_DIR\n",
    "mails_dir = DATA_DIR / 'mails'\n",
    "\n",
    "# valid indices 1, 2, 5 - currently working on.\n",
    "mail_path = mails_dir / os.listdir(mails_dir)[5]\n",
    "mail_name = mail_path.name.split('.')[0]\n",
    "\n",
    "attachments_folder = Path.cwd() / 'attachments' / mail_name\n",
    "\n",
    "# Ensure the parent exist\n",
    "attachments_folder.mkdir(exist_ok=True)\n",
    "\n",
    "email_details = extract_email_details(mail_path, attachments_folder)\n",
    "print(email_details['Body'])"
   ]
  },
  {
   "cell_type": "code",
   "execution_count": 54,
   "metadata": {},
   "outputs": [],
   "source": [
    "def get_prompt(text):\n",
    "    prompt = \"\"\"\n",
    "    You are a **product quality notification data extractor**. Your task is to extract structured rejection details from the provided text and return **only the JSON output** in the following format:\n",
    "\n",
    "    {\n",
    "        \"ID\": \"integer\",\n",
    "        \"NotificationType\": \"string\",\n",
    "        \"DateTime\": \"YYYY-MM-DD HH:MM:SS\",\n",
    "        \"Location\": \"string\",\n",
    "        \"Category\": \"string\",\n",
    "        \"Product\": \"string\",\n",
    "        \"FocusProduct\": \"string\",\n",
    "        \"Supplier\": \"string\",\n",
    "        \"CountryOfOrigin\": \"string\",\n",
    "        \"Variety\": \"string\",\n",
    "        \"Grower\": \"string\",\n",
    "        \"PackagingCodes\": \"string\",\n",
    "        \"Traceability\": \"string\",\n",
    "        \"DateCode\": \"YYYY-MM-DD\",\n",
    "        \"DeliverySize\": \"string\",\n",
    "        \"CasesSampled\": \"integer\",\n",
    "        \"CasesRejected\": \"integer\",\n",
    "        \"UnitsRejected\": \"integer\",\n",
    "        \"RejectionLevel\": \"string\",\n",
    "        \"Details\": \"string\",\n",
    "        \"ActionTaken\": \"string\",\n",
    "        \"ContactsInformed\": \"string\"\n",
    "    }\n",
    "\n",
    "    **Metadata for Fields:**\n",
    "    - **ID** *(integer)* – A unique identifier for each quality notification.\n",
    "    - **NotificationType** *(string)* – The type of notification (e.g., Product Escalation, High / Rejection, Warning).\n",
    "    - **DateTime** *(string - YYYY-MM-DD HH:MM:SS)* – The timestamp when the notification was created.\n",
    "    - **Location** *(string)* – The facility or depot where the issue was identified.\n",
    "    - **Category** *(string)* – The product category (e.g., Fruit - Stone Fruit, Produce - Citrus).\n",
    "    - **Product** *(string)* – The product name or SKU associated with the issue.\n",
    "    - **FocusProduct** *(string)* – Whether the product is a focus product (Yes/No).\n",
    "    - **Supplier** *(string)* – Supplier information, including supplier ID if available.\n",
    "    - **CountryOfOrigin** *(string)* – The country where the product was grown or manufactured.\n",
    "    - **Variety** *(string)* – The specific variety of the product (e.g., Gala Apples, Valencia Oranges).\n",
    "    - **Grower** *(string)* – The grower or farm responsible for the product.\n",
    "    - **PackagingCodes** *(string)* – Packaging-related codes used for traceability.\n",
    "    - **Traceability** *(string)* – Additional traceability details, such as batch numbers or internal tracking codes.\n",
    "    - **DateCode** *(string - YYYY-MM-DD)* – The date code printed on the product.\n",
    "    - **DeliverySize** *(string)* – The number of cases/trays received and their respective units (e.g., 69 x 10).\n",
    "    - **CasesSampled** *(integer)* – The number of cases that were sampled during inspection.\n",
    "    - **CasesRejected** *(integer)* – The number of cases that were fully rejected.\n",
    "    - **UnitsRejected** *(integer)* – The total number of rejected units.\n",
    "    - **RejectionLevel** *(string)* – The level of rejection (e.g., Full, Partial, None).\n",
    "    - **Details** *(string)* – A description of the issue found during the inspection.\n",
    "    - **ActionTaken** *(string)* – The action taken as a result of the rejection (e.g., product rejected on site).\n",
    "    - **ContactsInformed** *(string)* – A list of people or emails who were informed about the rejection.\n",
    "\n",
    "    **Strict Output Rules:**\n",
    "    - **Only return the data in JSON format.**\n",
    "    - **Do not include any explanation, additional text, or non-JSON output.**\n",
    "    - Ensure all dates follow the format `YYYY-MM-DD HH:MM:SS`.\n",
    "    - If any value is missing, set it to `null`. **Do not infer missing details or hallucinate.**\n",
    "    - **Strictly follow the data types and format specified.**\n",
    "    - If there are any links, such as images or external references, exclude them from the output.\n",
    "\n",
    "    ### Rejection Data Text:\n",
    "    \"\"\" + text\n",
    "\n",
    "    return prompt"
   ]
  },
  {
   "cell_type": "code",
   "execution_count": 4,
   "metadata": {},
   "outputs": [
    {
     "data": {
      "application/vnd.jupyter.widget-view+json": {
       "model_id": "87d499064c3d479e83b3a56330cbfef5",
       "version_major": 2,
       "version_minor": 0
      },
      "text/plain": [
       "Loading checkpoint shards:   0%|          | 0/8 [00:00<?, ?it/s]"
      ]
     },
     "metadata": {},
     "output_type": "display_data"
    }
   ],
   "source": [
    "import torch\n",
    "from transformers import AutoModelForCausalLM, AutoTokenizer, BitsAndBytesConfig\n",
    "\n",
    "# Load the model with 4-bit quantization\n",
    "def load_model(model_name=\"Qwen/Qwen2.5-14B-Instruct-1M\"):\n",
    "    bnb_config = BitsAndBytesConfig(\n",
    "        load_in_4bit=True,  # Enable 4-bit quantization\n",
    "        bnb_4bit_compute_dtype=torch.bfloat16  # Use bfloat16 for computation\n",
    "    )\n",
    "\n",
    "    model = AutoModelForCausalLM.from_pretrained(\n",
    "        model_name,\n",
    "        device_map=\"cuda\",  # Automatically map to available devices\n",
    "        quantization_config=bnb_config\n",
    "    )\n",
    "\n",
    "    tokenizer = AutoTokenizer.from_pretrained(model_name, use_fast=True)\n",
    "\n",
    "    return model, tokenizer\n",
    "\n",
    "# Load model and tokenizer with 4-bit quantization\n",
    "model, tokenizer = load_model()"
   ]
  },
  {
   "cell_type": "code",
   "execution_count": 67,
   "metadata": {},
   "outputs": [],
   "source": [
    "prompt = get_prompt(email_details['Body'])\n",
    "messages = [\n",
    "    {\"role\": \"system\", \"content\": \"You are email checker.\"},\n",
    "    {\"role\": \"user\", \"content\": prompt}\n",
    "]\n",
    "text = tokenizer.apply_chat_template(\n",
    "    messages,\n",
    "    tokenize=False,\n",
    "    add_generation_prompt=True\n",
    ")\n",
    "model_inputs = tokenizer([text], return_tensors=\"pt\").to(model.device)\n",
    "\n",
    "generated_ids = model.generate(\n",
    "    **model_inputs,\n",
    "    max_new_tokens=2000\n",
    ")\n",
    "generated_ids = [\n",
    "    output_ids[len(input_ids):] for input_ids, output_ids in zip(model_inputs.input_ids, generated_ids)\n",
    "]\n",
    "\n",
    "response = tokenizer.batch_decode(generated_ids)[0]"
   ]
  },
  {
   "cell_type": "code",
   "execution_count": 68,
   "metadata": {},
   "outputs": [
    {
     "name": "stdout",
     "output_type": "stream",
     "text": [
      "```json\n",
      "{\n",
      "    \"ID\": 111,\n",
      "    \"NotificationType\": \"Warning\",\n",
      "    \"DateTime\": \"2024-08-27 06:57:00\",\n",
      "    \"Location\": \"Erith CFC (Kent, DA8 1DE)\",\n",
      "    \"Category\": \"TOMATOES\",\n",
      "    \"Product\": \"629903011: Ocado Organic Tomatoes on the Vine\",\n",
      "    \"FocusProduct\": \"No\",\n",
      "    \"Supplier\": \"ETHICAL FOOD COMPANY LTD\",\n",
      "    \"CountryOfOrigin\": null,\n",
      "    \"Variety\": null,\n",
      "    \"Grower\": null,\n",
      "    \"PackagingCodes\": null,\n",
      "    \"Traceability\": \"Date Code: 2024-09-03\",\n",
      "    \"DateCode\": \"2024-09-03\",\n",
      "    \"DeliverySize\": \"10 x 16\",\n",
      "    \"CasesSampled\": 3,\n",
      "    \"CasesRejected\": null,\n",
      "    \"UnitsRejected\": null,\n",
      "    \"RejectionLevel\": \"None\",\n",
      "    \"Details\": \"1x Rot- Progressive defect not acceptable to customers. No QAS available.\",\n",
      "    \"ActionTaken\": \"N/A\",\n",
      "    \"ContactsInformed\": null\n",
      "}\n",
      "```<|im_end|>\n"
     ]
    }
   ],
   "source": [
    "print(response)"
   ]
  },
  {
   "cell_type": "code",
   "execution_count": 69,
   "metadata": {},
   "outputs": [
    {
     "name": "stdout",
     "output_type": "stream",
     "text": [
      "Parsed JSON:\n",
      "{'ID': 111, 'NotificationType': 'Warning', 'DateTime': '2024-08-27 06:57:00', 'Location': 'Erith CFC (Kent, DA8 1DE)', 'Category': 'TOMATOES', 'Product': '629903011: Ocado Organic Tomatoes on the Vine', 'FocusProduct': 'No', 'Supplier': 'ETHICAL FOOD COMPANY LTD', 'CountryOfOrigin': None, 'Variety': None, 'Grower': None, 'PackagingCodes': None, 'Traceability': 'Date Code: 2024-09-03', 'DateCode': '2024-09-03', 'DeliverySize': '10 x 16', 'CasesSampled': 3, 'CasesRejected': None, 'UnitsRejected': None, 'RejectionLevel': 'None', 'Details': '1x Rot- Progressive defect not acceptable to customers. No QAS available.', 'ActionTaken': 'N/A', 'ContactsInformed': None}\n"
     ]
    }
   ],
   "source": [
    "import re, json\n",
    "# Extract JSON using regex\n",
    "match = re.search(r\"\\{.*\\}\", response, re.DOTALL)\n",
    "if match:\n",
    "    json_str = match.group(0).strip()\n",
    "    try:\n",
    "        data = json.loads(json_str)\n",
    "        print(\"Parsed JSON:\")\n",
    "        print(data)\n",
    "    except json.JSONDecodeError as e:\n",
    "        print(\"JSON decoding error:\", e)\n",
    "else:\n",
    "    print(\"No JSON found in the response\")"
   ]
  },
  {
   "cell_type": "code",
   "execution_count": 70,
   "metadata": {},
   "outputs": [
    {
     "data": {
      "text/html": [
       "<table border=\"1\"><tr><th>ID</th><td>111</td></tr><tr><th>NotificationType</th><td>Warning</td></tr><tr><th>DateTime</th><td>2024-08-27 06:57:00</td></tr><tr><th>Location</th><td>Erith CFC (Kent, DA8 1DE)</td></tr><tr><th>Category</th><td>TOMATOES</td></tr><tr><th>Product</th><td>629903011: Ocado Organic Tomatoes on the Vine</td></tr><tr><th>FocusProduct</th><td>No</td></tr><tr><th>Supplier</th><td>ETHICAL FOOD COMPANY LTD</td></tr><tr><th>CountryOfOrigin</th><td>None</td></tr><tr><th>Variety</th><td>None</td></tr><tr><th>Grower</th><td>None</td></tr><tr><th>PackagingCodes</th><td>None</td></tr><tr><th>Traceability</th><td>Date Code: 2024-09-03</td></tr><tr><th>DateCode</th><td>2024-09-03</td></tr><tr><th>DeliverySize</th><td>10 x 16</td></tr><tr><th>CasesSampled</th><td>3</td></tr><tr><th>CasesRejected</th><td>None</td></tr><tr><th>UnitsRejected</th><td>None</td></tr><tr><th>RejectionLevel</th><td>None</td></tr><tr><th>Details</th><td>1x Rot- Progressive defect not acceptable to customers. No QAS available.</td></tr><tr><th>ActionTaken</th><td>N/A</td></tr><tr><th>ContactsInformed</th><td>None</td></tr></table>"
      ],
      "text/plain": [
       "<IPython.core.display.HTML object>"
      ]
     },
     "metadata": {},
     "output_type": "display_data"
    }
   ],
   "source": [
    "from json2html import json2html\n",
    "from IPython.display import display, HTML\n",
    "\n",
    "# Convert JSON to an HTML table\n",
    "html_table = json2html.convert(json=data)\n",
    "\n",
    "# Display the table\n",
    "display(HTML(html_table))"
   ]
  },
  {
   "cell_type": "code",
   "execution_count": 71,
   "metadata": {},
   "outputs": [
    {
     "name": "stdout",
     "output_type": "stream",
     "text": [
      "JSON saved at: C:\\Users\\ai.users\\imscanCS\\data\\output_mail_dir\\Ocado Quality Notification - Warning.json\n"
     ]
    }
   ],
   "source": [
    "# save json\n",
    "output_mail_dir = DATA_DIR / 'output_mail_dir'\n",
    "output_mail_dir.mkdir(exist_ok=True)\n",
    "\n",
    "import json\n",
    "# Define full file path\n",
    "json_file_path = os.path.join(output_mail_dir, f\"{mail_name}.json\")\n",
    "\n",
    "# Save JSON file\n",
    "with open(json_file_path, \"w\", encoding=\"utf-8\") as json_file:\n",
    "    json.dump(data, json_file, indent=4)\n",
    "\n",
    "print(f\"JSON saved at: {json_file_path}\")"
   ]
  },
  {
   "cell_type": "code",
   "execution_count": null,
   "metadata": {},
   "outputs": [],
   "source": []
  }
 ],
 "metadata": {
  "kernelspec": {
   "display_name": "imscanCS",
   "language": "python",
   "name": "python3"
  },
  "language_info": {
   "codemirror_mode": {
    "name": "ipython",
    "version": 3
   },
   "file_extension": ".py",
   "mimetype": "text/x-python",
   "name": "python",
   "nbconvert_exporter": "python",
   "pygments_lexer": "ipython3",
   "version": "3.13.2"
  }
 },
 "nbformat": 4,
 "nbformat_minor": 2
}
