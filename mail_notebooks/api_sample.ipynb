{
 "cells": [
  {
   "cell_type": "code",
   "execution_count": 1,
   "metadata": {},
   "outputs": [],
   "source": [
    "import os\n",
    "import email\n",
    "from email import policy\n",
    "from pathlib import Path\n",
    "\n",
    "\n",
    "def extract_email_details(mail_path: Path, attachments_folder: Path) -> dict:\n",
    "    # Read the .eml file\n",
    "    with open(mail_path, \"rb\") as f:\n",
    "        msg = email.message_from_binary_file(f, policy=policy.default)\n",
    "    \n",
    "    sender = msg.get('From')\n",
    "    reciver = msg.get('To')\n",
    "    subject = msg.get('Subject')\n",
    "    date = msg.get('Date')\n",
    "    body = msg.get_body(preferencelist=('plain', 'html')).get_content()\n",
    "    attachments = []\n",
    "    \n",
    "    # Extract attachments and save them\n",
    "    for part in msg.iter_attachments():\n",
    "        filename = part.get_filename()\n",
    "        if filename:\n",
    "            attachments.append(filename)\n",
    "            with open(attachments_folder / filename, \"wb\") as f:\n",
    "                f.write(part.get_payload(decode=True))\n",
    "    \n",
    "    return {\n",
    "        \"Sender\": sender,\n",
    "        \"Reciver\": reciver,\n",
    "        \"Subject\": subject,\n",
    "        \"Date\": date,\n",
    "        \"Body\": body,\n",
    "        \"Attachments\": attachments\n",
    "    }"
   ]
  },
  {
   "cell_type": "code",
   "execution_count": 22,
   "metadata": {},
   "outputs": [
    {
     "name": "stdout",
     "output_type": "stream",
     "text": [
      "M&amp;S Product Quality Notification - Product Escalation\n",
      "\n",
      "ID      7735\n",
      "Notification Type       Product Escalation\n",
      "Date / Time     14/08/2024 13:59\n",
      "Source  FSL\n",
      "Submitted By    R. Pittala\n",
      "Location        RDC: Crewe\n",
      "Category        Fruit - Stone Fruit\n",
      "Product 00082723: YELLOW NECTARINES X4\n",
      "Focus Product   No\n",
      "Supplier        4793: DIRECT PRODUCE SUPPLIES\n",
      "Traceability    Variety: Honey Glo\n",
      "Grower: N/A\n",
      "COO: Spain\n",
      "Label Date Code: 2024-08-19\n",
      "Product Temp: 2.8\n",
      "Storage Temp: 4\n",
      "\n",
      "Delivery Size (cases x units)   69 x 10\n",
      "Cases Sampled   20\n",
      "Units OOS (OOS / Sampled)       32/40\n",
      "Units Removed / Destructively Tested    0\n",
      "Cases Rejected  69/69\n",
      "Units Rejected  690/690\n",
      "Rejection Level Full\n",
      "Details During the inspection of 40 packs of PR yellow nectarines (82723) from a total of 20 cases (100 packs), several issues were discovered. - 20 fruits exhibited internal breakdown and were soft. - 10 packs contained internal rots, glassy, and mushy texture. - 2 packs displayed external storage mold. The major defect percentage is calculated at 9.7% . Combined defect percentage is at 30%. The specification tolerance for major defects is 2%. Total cases received :69\n",
      "Action Taken    The product has been rejected on site .\n",
      "M&amp;S Contact Informed        Pablo\n",
      "Depot Contact Informed  Dean Marsh\n",
      "\n",
      "Image Links:\n",
      "\n",
      "   *   View Image 1<https://gbr01.safelinks.protection.outlook.com/?url=https%3A%2F%2Furl.uk.m.mimecastprotect.com%2Fs%2Ft_D1Cl2VvS2p5WQfGfjuzY0PM%3Fdomain%3Dfslreporting.co.uk&data=05%7C02%7CTom.Koningen%40dpsltd.com%7C677e794c658c41ca81c208dcbc622839%7C0a6ac99f713640dd9ec3ddedf46edbc9%7C0%7C0%7C638592376972222016%7CUnknown%7CTWFpbGZsb3d8eyJWIjoiMC4wLjAwMDAiLCJQIjoiV2luMzIiLCJBTiI6Ik1haWwiLCJXVCI6Mn0%3D%7C0%7C%7C%7C&sdata=TrlpWowZn%2FxdjKucI3%2BzY3L4MLxrZn%2Bgzb7O4UV6HaY%3D&reserved=0>\n",
      "   *   View Image 2<https://gbr01.safelinks.protection.outlook.com/?url=https%3A%2F%2Furl.uk.m.mimecastprotect.com%2Fs%2F3LF-CmYV2fjDKVOCOhouRzkeT%3Fdomain%3Dfslreporting.co.uk&data=05%7C02%7CTom.Koningen%40dpsltd.com%7C677e794c658c41ca81c208dcbc622839%7C0a6ac99f713640dd9ec3ddedf46edbc9%7C0%7C0%7C638592376972232515%7CUnknown%7CTWFpbGZsb3d8eyJWIjoiMC4wLjAwMDAiLCJQIjoiV2luMzIiLCJBTiI6Ik1haWwiLCJXVCI6Mn0%3D%7C0%7C%7C%7C&sdata=8FrGtKzV6%2FKyMcFShFgpTNIy7MsMbKhtG5v4FNvACCs%3D&reserved=0>\n",
      "   *   View Image 3<https://gbr01.safelinks.protection.outlook.com/?url=https%3A%2F%2Furl.uk.m.mimecastprotect.com%2Fs%2FOKdoCngVYi7jq48HNiEuJsJf4%3Fdomain%3Dfslreporting.co.uk&data=05%7C02%7CTom.Koningen%40dpsltd.com%7C677e794c658c41ca81c208dcbc622839%7C0a6ac99f713640dd9ec3ddedf46edbc9%7C0%7C0%7C638592376972240276%7CUnknown%7CTWFpbGZsb3d8eyJWIjoiMC4wLjAwMDAiLCJQIjoiV2luMzIiLCJBTiI6Ik1haWwiLCJXVCI6Mn0%3D%7C0%7C%7C%7C&sdata=6Fb3E728T%2FV%2FHELeB0EKH3Xv3N4RcJezR7KeRngRGsY%3D&reserved=0>\n",
      "   *   View Image 4<https://gbr01.safelinks.protection.outlook.com/?url=https%3A%2F%2Furl.uk.m.mimecastprotect.com%2Fs%2Fgb8eCoj9virZLAOc6swup36uF%3Fdomain%3Dfslreporting.co.uk&data=05%7C02%7CTom.Koningen%40dpsltd.com%7C677e794c658c41ca81c208dcbc622839%7C0a6ac99f713640dd9ec3ddedf46edbc9%7C0%7C0%7C638592376972246311%7CUnknown%7CTWFpbGZsb3d8eyJWIjoiMC4wLjAwMDAiLCJQIjoiV2luMzIiLCJBTiI6Ik1haWwiLCJXVCI6Mn0%3D%7C0%7C%7C%7C&sdata=7D0R9UymFWB83qMPIAGVVEjCujfITgcwnjVv%2F15hBM4%3D&reserved=0>\n",
      "   *   View Image 5<https://gbr01.safelinks.protection.outlook.com/?url=https%3A%2F%2Furl.uk.m.mimecastprotect.com%2Fs%2FaakbCpk6RCnKNgYhJtwuGJms2%3Fdomain%3Dfslreporting.co.uk&data=05%7C02%7CTom.Koningen%40dpsltd.com%7C677e794c658c41ca81c208dcbc622839%7C0a6ac99f713640dd9ec3ddedf46edbc9%7C0%7C0%7C638592376972251921%7CUnknown%7CTWFpbGZsb3d8eyJWIjoiMC4wLjAwMDAiLCJQIjoiV2luMzIiLCJBTiI6Ik1haWwiLCJXVCI6Mn0%3D%7C0%7C%7C%7C&sdata=EaGPdcDxRZ%2FuCx1ZItHitqU7kOzIQFN4qyTpMPaqmhQ%3D&reserved=0>\n",
      "\n",
      "Contacts Informed via Email:\n",
      "\n",
      "   *   quality@food-surveys.com\n",
      "   *   Heather.Chapman@marks-and-spencer.com\n",
      "   *   Andrew.Mellonie@marks-and-spencer.com\n",
      "   *   Jennifer.Hackett@gistworld.com\n",
      "   *   pablo.martinez@marks-and-spencer.com\n",
      "   *   mandstechnical@dpsltd.com\n",
      "\n"
     ]
    }
   ],
   "source": [
    "# Example usage\n",
    "from config.settings import DATA_DIR\n",
    "mails_dir = DATA_DIR / 'mails'\n",
    "\n",
    "# valid indices 1, 2, 5 - currently working on.\n",
    "mail_path = mails_dir / os.listdir(mails_dir)[1]\n",
    "mail_name = mail_path.name.split('.')[0]\n",
    "\n",
    "attachments_folder = Path.cwd() / 'attachments' / mail_name\n",
    "\n",
    "# Ensure the parent exist\n",
    "attachments_folder.mkdir(exist_ok=True)\n",
    "\n",
    "email_details = extract_email_details(mail_path, attachments_folder)\n",
    "print(email_details['Body'])"
   ]
  },
  {
   "cell_type": "code",
   "execution_count": 3,
   "metadata": {},
   "outputs": [],
   "source": [
    "def get_prompt(text):\n",
    "    prompt = \"\"\"\n",
    "    You are a **product quality notification data extractor**. Your task is to extract structured rejection details from the provided text and return **only the JSON output** in the following format:\n",
    "\n",
    "    {\n",
    "        \"ID\": \"integer\",\n",
    "        \"NotificationType\": \"string\",\n",
    "        \"DateTime\": \"YYYY-MM-DD HH:MM:SS\",\n",
    "        \"Location\": \"string\",\n",
    "        \"Category\": \"string\",\n",
    "        \"Product\": \"string\",\n",
    "        \"FocusProduct\": \"string\",\n",
    "        \"Supplier\": \"string\",\n",
    "        \"CountryOfOrigin\": \"string\",\n",
    "        \"Variety\": \"string\",\n",
    "        \"Grower\": \"string\",\n",
    "        \"PackagingCodes\": \"string\",\n",
    "        \"DateCode\": \"YYYY-MM-DD\",\n",
    "        \"DeliverySize\": \"string\",\n",
    "        \"CasesSampled\": \"integer\",\n",
    "        \"CasesRejected\": \"integer\",\n",
    "        \"UnitsRejected\": \"integer\",\n",
    "        \"RejectionLevel\": \"string\",\n",
    "        \"Details\": \"string\",\n",
    "        \"ActionTaken\": \"string\",\n",
    "        \"ContactsInformed\": \"string\"\n",
    "    }\n",
    "\n",
    "    **Metadata for Fields:**\n",
    "    - **ID** *(integer)* – A unique identifier for each quality notification.\n",
    "    - **NotificationType** *(string)* – The type of notification (e.g., Product Escalation, High / Rejection, Warning).\n",
    "    - **DateTime** *(string - YYYY-MM-DD HH:MM:SS)* – The timestamp when the notification was created.\n",
    "    - **Location** *(string)* – The facility or depot where the issue was identified.\n",
    "    - **Category** *(string)* – The product category (e.g., Fruit - Stone Fruit, Produce - Citrus).\n",
    "    - **Product** *(string)* – The product name or SKU associated with the issue.\n",
    "    - **FocusProduct** *(string)* – Whether the product is a focus product (Yes/No).\n",
    "    - **Supplier** *(string)* – Supplier information, including supplier ID if available.\n",
    "    - **CountryOfOrigin** *(string)* – The country where the product was grown or manufactured.\n",
    "    - **Variety** *(string)* – The specific variety of the product (e.g., Gala Apples, Valencia Oranges).\n",
    "    - **Grower** *(string)* – The grower or farm responsible for the product.\n",
    "    - **PackagingCodes** *(string)* – Packaging-related codes used for traceability.\n",
    "    - **DateCode** *(string - YYYY-MM-DD)* – The date code printed on the product.\n",
    "    - **DeliverySize** *(string)* – The number of cases/trays received and their respective units (e.g., 69 x 10).\n",
    "    - **CasesSampled** *(integer)* – The number of cases that were sampled during inspection.\n",
    "    - **CasesRejected** *(integer)* – The number of cases that were fully rejected.\n",
    "    - **UnitsRejected** *(integer)* – The total number of rejected units.\n",
    "    - **RejectionLevel** *(string)* – The level of rejection (e.g., Full, Partial, None).\n",
    "    - **Details** *(string)* – A description of the issue found during the inspection.\n",
    "    - **ActionTaken** *(string)* – The action taken as a result of the rejection (e.g., product rejected on site).\n",
    "    - **ContactsInformed** *(string)* – A list of people or emails who were informed about the rejection.\n",
    "\n",
    "    **Strict Output Rules:**\n",
    "    - **Only return the data in JSON format.**\n",
    "    - **Do not include any explanation, additional text, or non-JSON output.**\n",
    "    - Ensure all dates follow the format `YYYY-MM-DD HH:MM:SS`.\n",
    "    - If any value is missing, set it to `null`. **Do not infer missing details or hallucinate.**\n",
    "    - **Strictly follow the data types and format specified.**\n",
    "    - If there are any links, such as images or external references, exclude them from the output.\n",
    "\n",
    "    ### Rejection Data Text:\n",
    "    \"\"\" + text\n",
    "\n",
    "    return prompt"
   ]
  },
  {
   "cell_type": "code",
   "execution_count": 4,
   "metadata": {},
   "outputs": [
    {
     "data": {
      "application/vnd.jupyter.widget-view+json": {
       "model_id": "f03e35fc66b94886a99f53616fa34a57",
       "version_major": 2,
       "version_minor": 0
      },
      "text/plain": [
       "Loading checkpoint shards:   0%|          | 0/8 [00:00<?, ?it/s]"
      ]
     },
     "metadata": {},
     "output_type": "display_data"
    }
   ],
   "source": [
    "import torch\n",
    "from transformers import AutoModelForCausalLM, AutoTokenizer, BitsAndBytesConfig\n",
    "\n",
    "# Load the model with 4-bit quantization\n",
    "def load_model(model_name=\"Qwen/Qwen2.5-14B-Instruct-1M\"):\n",
    "    bnb_config = BitsAndBytesConfig(\n",
    "        load_in_4bit=True,  # Enable 4-bit quantization\n",
    "        bnb_4bit_compute_dtype=torch.bfloat16  # Use bfloat16 for computation\n",
    "    )\n",
    "\n",
    "    model = AutoModelForCausalLM.from_pretrained(\n",
    "        model_name,\n",
    "        device_map=\"cuda\",  # Automatically map to available devices\n",
    "        quantization_config=bnb_config\n",
    "    )\n",
    "\n",
    "    tokenizer = AutoTokenizer.from_pretrained(model_name, use_fast=True)\n",
    "\n",
    "    return model, tokenizer\n",
    "\n",
    "# Load model and tokenizer with 4-bit quantization\n",
    "model, tokenizer = load_model()"
   ]
  },
  {
   "cell_type": "code",
   "execution_count": 23,
   "metadata": {},
   "outputs": [],
   "source": [
    "prompt = get_prompt(email_details['Body'])\n",
    "messages = [\n",
    "    {\"role\": \"system\", \"content\": \"You are email checker.\"},\n",
    "    {\"role\": \"user\", \"content\": prompt}\n",
    "]\n",
    "text = tokenizer.apply_chat_template(\n",
    "    messages,\n",
    "    tokenize=False,\n",
    "    add_generation_prompt=True\n",
    ")\n",
    "model_inputs = tokenizer([text], return_tensors=\"pt\").to(model.device)\n",
    "\n",
    "generated_ids = model.generate(\n",
    "    **model_inputs,\n",
    "    max_new_tokens=2000\n",
    ")\n",
    "generated_ids = [\n",
    "    output_ids[len(input_ids):] for input_ids, output_ids in zip(model_inputs.input_ids, generated_ids)\n",
    "]\n",
    "\n",
    "response = tokenizer.batch_decode(generated_ids)[0]"
   ]
  },
  {
   "cell_type": "code",
   "execution_count": 24,
   "metadata": {},
   "outputs": [
    {
     "name": "stdout",
     "output_type": "stream",
     "text": [
      "```json\n",
      "{\n",
      "    \"ID\": 7735,\n",
      "    \"NotificationType\": \"Product Escalation\",\n",
      "    \"DateTime\": \"2024-08-14 13:59:00\",\n",
      "    \"Location\": \"RDC: Crewe\",\n",
      "    \"Category\": \"Fruit - Stone Fruit\",\n",
      "    \"Product\": \"00082723: YELLOW NECTARINES X4\",\n",
      "    \"FocusProduct\": \"No\",\n",
      "    \"Supplier\": \"4793: DIRECT PRODUCE SUPPLIES\",\n",
      "    \"CountryOfOrigin\": \"Spain\",\n",
      "    \"Variety\": \"Honey Glo\",\n",
      "    \"Grower\": \"N/A\",\n",
      "    \"PackagingCodes\": null,\n",
      "    \"DateCode\": \"2024-08-19\",\n",
      "    \"DeliverySize\": \"69 x 10\",\n",
      "    \"CasesSampled\": 20,\n",
      "    \"CasesRejected\": 69,\n",
      "    \"UnitsRejected\": 690,\n",
      "    \"RejectionLevel\": \"Full\",\n",
      "    \"Details\": \"During the inspection of 40 packs of PR yellow nectarines (82723) from a total of 20 cases (100 packs), several issues were discovered. - 20 fruits exhibited internal breakdown and were soft. - 10 packs contained internal rots, glassy, and mushy texture. - 2 packs displayed external storage mold. The major defect percentage is calculated at 9.7%. Combined defect percentage is at 30%. The specification tolerance for major defects is 2%. Total cases received: 69.\",\n",
      "    \"ActionTaken\": \"The product has been rejected on site.\",\n",
      "    \"ContactsInformed\": \"quality@food-surveys.com, Heather.Chapman@marks-and-spencer.com, Andrew.Mellonie@marks-and-spencer.com, Jennifer.Hackett@gistworld.com, pablo.martinez@marks-and-spencer.com, mandstechnical@dpsltd.com\"\n",
      "}\n",
      "```<|im_end|>\n"
     ]
    }
   ],
   "source": [
    "print(response)"
   ]
  },
  {
   "cell_type": "code",
   "execution_count": 25,
   "metadata": {},
   "outputs": [
    {
     "name": "stdout",
     "output_type": "stream",
     "text": [
      "Parsed JSON:\n",
      "{'ID': 7735, 'NotificationType': 'Product Escalation', 'DateTime': '2024-08-14 13:59:00', 'Location': 'RDC: Crewe', 'Category': 'Fruit - Stone Fruit', 'Product': '00082723: YELLOW NECTARINES X4', 'FocusProduct': 'No', 'Supplier': '4793: DIRECT PRODUCE SUPPLIES', 'CountryOfOrigin': 'Spain', 'Variety': 'Honey Glo', 'Grower': 'N/A', 'PackagingCodes': None, 'DateCode': '2024-08-19', 'DeliverySize': '69 x 10', 'CasesSampled': 20, 'CasesRejected': 69, 'UnitsRejected': 690, 'RejectionLevel': 'Full', 'Details': 'During the inspection of 40 packs of PR yellow nectarines (82723) from a total of 20 cases (100 packs), several issues were discovered. - 20 fruits exhibited internal breakdown and were soft. - 10 packs contained internal rots, glassy, and mushy texture. - 2 packs displayed external storage mold. The major defect percentage is calculated at 9.7%. Combined defect percentage is at 30%. The specification tolerance for major defects is 2%. Total cases received: 69.', 'ActionTaken': 'The product has been rejected on site.', 'ContactsInformed': 'quality@food-surveys.com, Heather.Chapman@marks-and-spencer.com, Andrew.Mellonie@marks-and-spencer.com, Jennifer.Hackett@gistworld.com, pablo.martinez@marks-and-spencer.com, mandstechnical@dpsltd.com'}\n"
     ]
    }
   ],
   "source": [
    "import re, json\n",
    "# Extract JSON using regex\n",
    "match = re.search(r\"\\{.*\\}\", response, re.DOTALL)\n",
    "if match:\n",
    "    json_str = match.group(0).strip()\n",
    "    try:\n",
    "        data = json.loads(json_str)\n",
    "        print(\"Parsed JSON:\")\n",
    "        print(data)\n",
    "    except json.JSONDecodeError as e:\n",
    "        print(\"JSON decoding error:\", e)\n",
    "else:\n",
    "    print(\"No JSON found in the response\")"
   ]
  },
  {
   "cell_type": "code",
   "execution_count": 26,
   "metadata": {},
   "outputs": [
    {
     "data": {
      "text/html": [
       "<table border=\"1\"><tr><th>ID</th><td>7735</td></tr><tr><th>NotificationType</th><td>Product Escalation</td></tr><tr><th>DateTime</th><td>2024-08-14 13:59:00</td></tr><tr><th>Location</th><td>RDC: Crewe</td></tr><tr><th>Category</th><td>Fruit - Stone Fruit</td></tr><tr><th>Product</th><td>00082723: YELLOW NECTARINES X4</td></tr><tr><th>FocusProduct</th><td>No</td></tr><tr><th>Supplier</th><td>4793: DIRECT PRODUCE SUPPLIES</td></tr><tr><th>CountryOfOrigin</th><td>Spain</td></tr><tr><th>Variety</th><td>Honey Glo</td></tr><tr><th>Grower</th><td>N/A</td></tr><tr><th>PackagingCodes</th><td>None</td></tr><tr><th>DateCode</th><td>2024-08-19</td></tr><tr><th>DeliverySize</th><td>69 x 10</td></tr><tr><th>CasesSampled</th><td>20</td></tr><tr><th>CasesRejected</th><td>69</td></tr><tr><th>UnitsRejected</th><td>690</td></tr><tr><th>RejectionLevel</th><td>Full</td></tr><tr><th>Details</th><td>During the inspection of 40 packs of PR yellow nectarines (82723) from a total of 20 cases (100 packs), several issues were discovered. - 20 fruits exhibited internal breakdown and were soft. - 10 packs contained internal rots, glassy, and mushy texture. - 2 packs displayed external storage mold. The major defect percentage is calculated at 9.7%. Combined defect percentage is at 30%. The specification tolerance for major defects is 2%. Total cases received: 69.</td></tr><tr><th>ActionTaken</th><td>The product has been rejected on site.</td></tr><tr><th>ContactsInformed</th><td>quality@food-surveys.com, Heather.Chapman@marks-and-spencer.com, Andrew.Mellonie@marks-and-spencer.com, Jennifer.Hackett@gistworld.com, pablo.martinez@marks-and-spencer.com, mandstechnical@dpsltd.com</td></tr></table>"
      ],
      "text/plain": [
       "<IPython.core.display.HTML object>"
      ]
     },
     "metadata": {},
     "output_type": "display_data"
    }
   ],
   "source": [
    "from json2html import json2html\n",
    "from IPython.display import display, HTML\n",
    "\n",
    "# Convert JSON to an HTML table\n",
    "html_table = json2html.convert(json=data)\n",
    "\n",
    "# Display the table\n",
    "display(HTML(html_table))"
   ]
  },
  {
   "cell_type": "code",
   "execution_count": 27,
   "metadata": {},
   "outputs": [
    {
     "name": "stdout",
     "output_type": "stream",
     "text": [
      "JSON saved at: C:\\Users\\ai.users\\imscanCS\\data\\output_mail_dir\\FSL - M&S Quality Notification - Product Escalation - RDC_ Crewe.json\n"
     ]
    }
   ],
   "source": [
    "# save json\n",
    "output_mail_dir = DATA_DIR / 'output_mail_dir'\n",
    "output_mail_dir.mkdir(exist_ok=True)\n",
    "\n",
    "import json\n",
    "# Define full file path\n",
    "json_file_path = os.path.join(output_mail_dir, f\"{mail_name}.json\")\n",
    "\n",
    "# Save JSON file\n",
    "with open(json_file_path, \"w\", encoding=\"utf-8\") as json_file:\n",
    "    json.dump(data, json_file, indent=4)\n",
    "\n",
    "print(f\"JSON saved at: {json_file_path}\")"
   ]
  },
  {
   "cell_type": "code",
   "execution_count": null,
   "metadata": {},
   "outputs": [],
   "source": []
  }
 ],
 "metadata": {
  "kernelspec": {
   "display_name": "imscanCS",
   "language": "python",
   "name": "python3"
  },
  "language_info": {
   "codemirror_mode": {
    "name": "ipython",
    "version": 3
   },
   "file_extension": ".py",
   "mimetype": "text/x-python",
   "name": "python",
   "nbconvert_exporter": "python",
   "pygments_lexer": "ipython3",
   "version": "3.13.2"
  }
 },
 "nbformat": 4,
 "nbformat_minor": 2
}
